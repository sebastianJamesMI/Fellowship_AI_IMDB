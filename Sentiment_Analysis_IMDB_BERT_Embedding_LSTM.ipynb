{
  "nbformat": 4,
  "nbformat_minor": 0,
  "metadata": {
    "colab": {
      "name": "Sentiment_Analysis_IMDB_BERT_Embedding_LSTM.ipynb",
      "provenance": [],
      "collapsed_sections": [],
      "mount_file_id": "1-gyI1op0-jtk8tgT2f4xhl6sy5sS-n0M",
      "authorship_tag": "ABX9TyOfTuwhSeHruvVrjbafXxjs",
      "include_colab_link": true
    },
    "kernelspec": {
      "name": "python3",
      "display_name": "Python 3"
    },
    "language_info": {
      "name": "python"
    },
    "accelerator": "GPU"
  },
  "cells": [
    {
      "cell_type": "markdown",
      "metadata": {
        "id": "view-in-github",
        "colab_type": "text"
      },
      "source": [
        "<a href=\"https://colab.research.google.com/github/sebastianJamesMI/Fellowship_AI_IMDB/blob/main/Sentiment_Analysis_IMDB_BERT_Embedding_LSTM.ipynb\" target=\"_parent\"><img src=\"https://colab.research.google.com/assets/colab-badge.svg\" alt=\"Open In Colab\"/></a>"
      ]
    },
    {
      "cell_type": "markdown",
      "metadata": {
        "id": "GarTRYs62E_S"
      },
      "source": [
        "This project uses the IMDB dataset compiled by Andrew Maas (see \n",
        "http://ai.stanford.edu/~amaas/data/sentiment/).\n",
        "\n",
        "- The objective is to classify movie reviews as positive or negative. The original reviews were rated on a scale from 1 to 10. For Binary Classification, anything with <= 4 was classfed as negative and anything with >= 7 stars were classified as positive. \n",
        "\n",
        "\n",
        "############################################################################\n",
        "\n",
        "I use different strategies to perform this classification task starting with a simple RNN model (LSTM) then using more complex models. \n",
        "\n"
      ]
    },
    {
      "cell_type": "markdown",
      "metadata": {
        "id": "kguzLNtKStH4"
      },
      "source": [
        "############################################################################\n",
        "\n",
        "\n",
        "This notebook uses a LSTM model and the BERT tokenizer, but does not use the BERT pre-trained weights. It trains the weights from scratch. "
      ]
    },
    {
      "cell_type": "markdown",
      "metadata": {
        "id": "ddMu3iwuSwQQ"
      },
      "source": [
        "This notebook references the following sources:\n",
        "\n",
        "\n",
        "1. NLP course on Udemy by Martin Jocqueviel: https://www.udemy.com/course/modern-nlp/\n",
        "\n",
        "2. Data reading and downloading, Aaron Kub: \n",
        "https://towardsdatascience.com/sentiment-analysis-with-python-part-1-5ce197074184\n",
        "\n",
        "3. Data Reading and Downloading: Georgios Drakos: https://gdcoder.com/sentiment-clas/\n",
        "\n",
        "4. Word Tokenization: Coursera Deep learning NLP courses by Andrew Ng\n"
      ]
    },
    {
      "cell_type": "markdown",
      "metadata": {
        "id": "3vjjdldlw-7k"
      },
      "source": [
        "Download the data from http://ai.stanford.edu/~amaas/data/sentiment/\n",
        "\n",
        "In another notebook I downloaded the data and saved them as train.csv and test.csv files"
      ]
    },
    {
      "cell_type": "markdown",
      "metadata": {
        "id": "pEkyTJzr2B0U"
      },
      "source": [
        ""
      ]
    },
    {
      "cell_type": "code",
      "metadata": {
        "colab": {
          "base_uri": "https://localhost:8080/"
        },
        "id": "OeSdn08kU_DK",
        "outputId": "9e9654f7-1abf-4e25-bc9e-d3cd026776ff"
      },
      "source": [
        "!pip install bert-for-tf2   ## not the official BERT source\n",
        "!pip install sentencepiece"
      ],
      "execution_count": 46,
      "outputs": [
        {
          "output_type": "stream",
          "text": [
            "Requirement already satisfied: bert-for-tf2 in /usr/local/lib/python3.7/dist-packages (0.14.9)\n",
            "Requirement already satisfied: params-flow>=0.8.0 in /usr/local/lib/python3.7/dist-packages (from bert-for-tf2) (0.8.2)\n",
            "Requirement already satisfied: py-params>=0.9.6 in /usr/local/lib/python3.7/dist-packages (from bert-for-tf2) (0.10.2)\n",
            "Requirement already satisfied: numpy in /usr/local/lib/python3.7/dist-packages (from params-flow>=0.8.0->bert-for-tf2) (1.19.5)\n",
            "Requirement already satisfied: tqdm in /usr/local/lib/python3.7/dist-packages (from params-flow>=0.8.0->bert-for-tf2) (4.41.1)\n",
            "Requirement already satisfied: sentencepiece in /usr/local/lib/python3.7/dist-packages (0.1.95)\n"
          ],
          "name": "stdout"
        }
      ]
    },
    {
      "cell_type": "code",
      "metadata": {
        "id": "LkVPyAfrzMVw"
      },
      "source": [
        "## Import Dependencies\n",
        "import numpy as np\n",
        "import pandas as pd\n",
        "from glob import glob\n",
        "import random\n",
        "import os\n",
        "import re\n",
        "import string\n",
        "import math\n",
        "\n",
        "import tensorflow as tf\n",
        "from tensorflow.keras.preprocessing.text import Tokenizer\n",
        "from tensorflow.keras.preprocessing.sequence import pad_sequences\n",
        "from tensorflow.keras.callbacks import ReduceLROnPlateau, EarlyStopping, ModelCheckpoint\n",
        "from tensorflow.keras.models import Sequential, Model, load_model\n",
        "from tensorflow.keras.layers import Dense, LSTM, Dropout, Embedding, Bidirectional, Conv1D, GlobalMaxPooling1D, Input\n",
        "\n",
        "from sklearn.metrics import accuracy_score\n",
        "from sklearn.model_selection import train_test_split\n",
        "\n",
        "import matplotlib.pyplot as plt\n",
        "%matplotlib inline"
      ],
      "execution_count": 104,
      "outputs": []
    },
    {
      "cell_type": "code",
      "metadata": {
        "colab": {
          "base_uri": "https://localhost:8080/"
        },
        "id": "M-6qpbIoIGTp",
        "outputId": "b699fd2c-8c2a-476f-f422-f89fc99274f5"
      },
      "source": [
        "## install requirements to use tensorflow/models repository\n",
        "!git clone --depth 1 -b v2.3.0 https://github.com/tensorflow/models.git\n",
        "!pip install -Uqr models/official/requirements.txt"
      ],
      "execution_count": 106,
      "outputs": [
        {
          "output_type": "stream",
          "text": [
            "Cloning into 'models'...\n",
            "remote: Enumerating objects: 2650, done.\u001b[K\n",
            "remote: Counting objects: 100% (2650/2650), done.\u001b[K\n",
            "remote: Compressing objects: 100% (2311/2311), done.\u001b[K\n",
            "remote: Total 2650 (delta 507), reused 1382 (delta 306), pack-reused 0\u001b[K\n",
            "Receiving objects: 100% (2650/2650), 34.01 MiB | 27.86 MiB/s, done.\n",
            "Resolving deltas: 100% (507/507), done.\n",
            "Note: checking out '400d68abbccda2f0f6609e3a924467718b144233'.\n",
            "\n",
            "You are in 'detached HEAD' state. You can look around, make experimental\n",
            "changes and commit them, and you can discard any commits you make in this\n",
            "state without impacting any branches by performing another checkout.\n",
            "\n",
            "If you want to create a new branch to retain commits you create, you may\n",
            "do so (now or later) by using -b with the checkout command again. Example:\n",
            "\n",
            "  git checkout -b <new-branch-name>\n",
            "\n",
            "\u001b[K     |████████████████████████████████| 6.6MB 9.3MB/s \n",
            "\u001b[K     |████████████████████████████████| 225kB 56.4MB/s \n",
            "\u001b[K     |████████████████████████████████| 15.3MB 213kB/s \n",
            "\u001b[K     |████████████████████████████████| 9.9MB 51.9MB/s \n",
            "\u001b[K     |████████████████████████████████| 296kB 56.8MB/s \n",
            "\u001b[K     |████████████████████████████████| 102kB 12.7MB/s \n",
            "\u001b[K     |████████████████████████████████| 27.4MB 103kB/s \n",
            "\u001b[K     |████████████████████████████████| 174kB 57.0MB/s \n",
            "\u001b[K     |████████████████████████████████| 3.7MB 48.7MB/s \n",
            "\u001b[K     |████████████████████████████████| 706kB 57.4MB/s \n",
            "\u001b[K     |████████████████████████████████| 358kB 62.0MB/s \n",
            "\u001b[K     |████████████████████████████████| 10.3MB 45.1MB/s \n",
            "\u001b[K     |████████████████████████████████| 37.6MB 1.2MB/s \n",
            "\u001b[K     |████████████████████████████████| 645kB 43.7MB/s \n",
            "\u001b[K     |████████████████████████████████| 3.0MB 47.9MB/s \n",
            "\u001b[K     |████████████████████████████████| 81kB 9.9MB/s \n",
            "\u001b[K     |████████████████████████████████| 51kB 7.3MB/s \n",
            "\u001b[?25h  Building wheel for py-cpuinfo (setup.py) ... \u001b[?25l\u001b[?25hdone\n",
            "\u001b[31mERROR: tensorflow 2.4.1 has requirement numpy~=1.19.2, but you'll have numpy 1.20.2 which is incompatible.\u001b[0m\n",
            "\u001b[31mERROR: pandas-gbq 0.13.3 has requirement google-cloud-bigquery[bqstorage,pandas]<2.0.0dev,>=1.11.1, but you'll have google-cloud-bigquery 2.13.1 which is incompatible.\u001b[0m\n",
            "\u001b[31mERROR: google-colab 1.0.0 has requirement pandas~=1.1.0; python_version >= \"3.0\", but you'll have pandas 1.2.3 which is incompatible.\u001b[0m\n",
            "\u001b[31mERROR: google-cloud-storage 1.18.1 has requirement google-resumable-media<0.5.0dev,>=0.3.1, but you'll have google-resumable-media 1.2.0 which is incompatible.\u001b[0m\n",
            "\u001b[31mERROR: earthengine-api 0.1.258 has requirement google-api-python-client<2,>=1.12.1, but you'll have google-api-python-client 2.1.0 which is incompatible.\u001b[0m\n",
            "\u001b[31mERROR: datascience 0.10.6 has requirement folium==0.2.1, but you'll have folium 0.8.3 which is incompatible.\u001b[0m\n",
            "\u001b[31mERROR: albumentations 0.1.12 has requirement imgaug<0.2.7,>=0.2.5, but you'll have imgaug 0.2.9 which is incompatible.\u001b[0m\n"
          ],
          "name": "stdout"
        }
      ]
    },
    {
      "cell_type": "code",
      "metadata": {
        "id": "yNwVLKFrIS9l"
      },
      "source": [
        "import sys\n",
        "sys.path.append('models')\n",
        "from official.nlp.data import classifier_data_lib\n",
        "from official.nlp.bert import tokenization\n",
        "from official.nlp import optimization\n"
      ],
      "execution_count": 107,
      "outputs": []
    },
    {
      "cell_type": "code",
      "metadata": {
        "id": "sI2S6tiRUnBm"
      },
      "source": [
        "import tensorflow_hub as hub #site where pre-trained models are uploaded. will be needed when we need to download BERT weights\n",
        "import bert"
      ],
      "execution_count": 75,
      "outputs": []
    },
    {
      "cell_type": "code",
      "metadata": {
        "id": "SWsfNMaf9vaE"
      },
      "source": [
        "## Read in train and test files, we can use these filesn for future notebooks\n",
        "train_df = pd.read_csv('/content/drive/MyDrive/Projects/FellowshipAI/train.csv')\n",
        "test_df = pd.read_csv('/content/drive/MyDrive/Projects/FellowshipAI/test.csv')"
      ],
      "execution_count": 114,
      "outputs": []
    },
    {
      "cell_type": "code",
      "metadata": {
        "colab": {
          "base_uri": "https://localhost:8080/"
        },
        "id": "6qqBVS1k97Zw",
        "outputId": "e8e7d002-0cb2-4bc4-939f-657b77d65305"
      },
      "source": [
        "print(train_df.shape)\n",
        "print(test_df.shape)"
      ],
      "execution_count": 115,
      "outputs": [
        {
          "output_type": "stream",
          "text": [
            "(25000, 2)\n",
            "(25000, 2)\n"
          ],
          "name": "stdout"
        }
      ]
    },
    {
      "cell_type": "code",
      "metadata": {
        "id": "gpd1ZhXCGda0"
      },
      "source": [
        "train, val = train_test_split(train_df, test_size = 0.2)"
      ],
      "execution_count": 116,
      "outputs": []
    },
    {
      "cell_type": "code",
      "metadata": {
        "id": "WRnmdJW7Gvga"
      },
      "source": [
        "with tf.device('/cpu:0'):\n",
        "  train_data = tf.data.Dataset.from_tensor_slices((train['text'].values, train['label'].values))\n",
        "  valid_data = tf.data.Dataset.from_tensor_slices((val['text'].values, val['label'].values))"
      ],
      "execution_count": 117,
      "outputs": []
    },
    {
      "cell_type": "code",
      "metadata": {
        "id": "Zofa-wK3F3Hg"
      },
      "source": [
        "## Text data needs to be converted to numerical data using tokenizing\n",
        "FullTokenizer = bert.bert_tokenization.FullTokenizer\n",
        "bert_layer = hub.KerasLayer(\"https://tfhub.dev/tensorflow/bert_en_uncased_L-12_H-768_A-12/1\", trainable = True)  ## BERT layer, we are not training the weights\n",
        "vocab_file = bert_layer.resolved_object.vocab_file.asset_path.numpy()  ## access to the vocab file as numpy\n",
        "do_lower_case = bert_layer.resolved_object.do_lower_case.numpy()\n",
        "tokenizer = FullTokenizer(vocab_file, do_lower_case= do_lower_case)"
      ],
      "execution_count": 118,
      "outputs": []
    },
    {
      "cell_type": "code",
      "metadata": {
        "id": "bCU_daGBHJ-3"
      },
      "source": [
        "label_list = [0,1] ### Label categories\n",
        "\n",
        "max_seq_length = 128 #####Allows for 512, for this we are going with 128, max sequence length.\n",
        "\n",
        "train_batch_size = 32"
      ],
      "execution_count": 119,
      "outputs": []
    },
    {
      "cell_type": "code",
      "metadata": {
        "id": "lfaDf-jPHKBS"
      },
      "source": [
        "def to_features(text, label, label_list = label_list, max_seq_length = max_seq_length, tokenizer = tokenizer):\n",
        "    example = classifier_data_lib.InputExample(guid = None, \n",
        "                                                text_a = text.numpy(),\n",
        "                                                text_b = None,\n",
        "                                                label = label.numpy())\n",
        "    \n",
        "    feature = classifier_data_lib.convert_single_example(0,example, label_list, max_seq_length, tokenizer)\n",
        "\n",
        "    \n",
        "    return(feature.input_ids, feature.input_mask, feature.segment_ids, feature.label_id)"
      ],
      "execution_count": 120,
      "outputs": []
    },
    {
      "cell_type": "code",
      "metadata": {
        "id": "sk3erfjRHKEP"
      },
      "source": [
        "def to_feature_map(text, label):\n",
        "    input_ids, input_mask, segment_ids, label_id = tf.py_function(to_features, inp = [text, label],\n",
        "                                                                    Tout = [tf.int32, tf.int32, tf.int32, tf.int32])\n",
        "    input_ids.set_shape([max_seq_length])\n",
        "    input_mask.set_shape([max_seq_length])\n",
        "    segment_ids.set_shape([max_seq_length])\n",
        "    label_id.set_shape([])\n",
        "\n",
        "    x = {\n",
        "        'input_word_ids': input_ids,\n",
        "        'input_mask': input_mask,\n",
        "        'input_type_ids': segment_ids\n",
        "\n",
        "    }\n",
        "\n",
        "    return(x, label_id)\n"
      ],
      "execution_count": 121,
      "outputs": []
    },
    {
      "cell_type": "code",
      "metadata": {
        "id": "bbRavAO1HWnX"
      },
      "source": [
        "### BERt requires input_ids, input_mask, input_type_ids\n",
        "\n",
        "with tf.device('cpu:0'):\n",
        "        #train\n",
        "        train_data = (train_data.map(to_feature_map,\n",
        "                        num_parallel_calls = tf.data.experimental.AUTOTUNE)\n",
        "        .shuffle(1000)\n",
        "        .batch(32, drop_remainder = True)\n",
        "        .prefetch(tf.data.experimental.AUTOTUNE))\n",
        "\n",
        "        #validation\n",
        "\n",
        "        valid_data = (valid_data.map(to_feature_map,\n",
        "                        num_parallel_calls = tf.data.experimental.AUTOTUNE)\n",
        "        .batch(32, drop_remainder = True)\n",
        "        .prefetch(tf.data.experimental.AUTOTUNE))"
      ],
      "execution_count": 122,
      "outputs": []
    },
    {
      "cell_type": "code",
      "metadata": {
        "colab": {
          "base_uri": "https://localhost:8080/"
        },
        "id": "SGJ8fNOXHWpp",
        "outputId": "b4b48288-b9e4-4390-fdb6-fd05192cbc02"
      },
      "source": [
        "# resulting tf.data.Datasets now will return pairs\n",
        "train_data.element_spec"
      ],
      "execution_count": 123,
      "outputs": [
        {
          "output_type": "execute_result",
          "data": {
            "text/plain": [
              "({'input_mask': TensorSpec(shape=(32, 128), dtype=tf.int32, name=None),\n",
              "  'input_type_ids': TensorSpec(shape=(32, 128), dtype=tf.int32, name=None),\n",
              "  'input_word_ids': TensorSpec(shape=(32, 128), dtype=tf.int32, name=None)},\n",
              " TensorSpec(shape=(32,), dtype=tf.int32, name=None))"
            ]
          },
          "metadata": {
            "tags": []
          },
          "execution_count": 123
        }
      ]
    },
    {
      "cell_type": "code",
      "metadata": {
        "id": "8lRKYv0bHWrs"
      },
      "source": [
        "def create_model():\n",
        "      input_word_ids = tf.keras.layers.Input(shape=(max_seq_length,), dtype=tf.int32,\n",
        "                                            name=\"input_word_ids\")\n",
        "      input_mask = tf.keras.layers.Input(shape=(max_seq_length,), dtype=tf.int32,\n",
        "                                        name=\"input_mask\")\n",
        "      input_type_ids = tf.keras.layers.Input(shape=(max_seq_length,), dtype=tf.int32,\n",
        "                                          name=\"input_type_ids\")\n",
        "      pooled_output, sequence_output = bert_layer([input_word_ids, input_mask, input_type_ids])\n",
        "\n",
        "      drop = tf.keras.layers.Dropout(0.4)(pooled_output)\n",
        "      output = tf.keras.layers.Dense(1, activation = 'sigmoid', name = 'output')(drop)\n",
        "      \n",
        "      model = tf.keras.Model(\n",
        "          inputs = {\n",
        "            'input_word_ids': input_word_ids,\n",
        "            'input_mask': input_mask,\n",
        "            'input_type_ids': input_type_ids\n",
        "          },\n",
        "          outputs = output)\n",
        "      return model"
      ],
      "execution_count": 124,
      "outputs": []
    },
    {
      "cell_type": "code",
      "metadata": {
        "colab": {
          "base_uri": "https://localhost:8080/"
        },
        "id": "mTSITwFrHWtm",
        "outputId": "92e30700-821b-4a88-dfc9-ac5372bfa7e4"
      },
      "source": [
        "### Fine tune BERT for text classification\n",
        "\n",
        "model = create_model()\n",
        "model.compile(optimizer = tf.keras.optimizers.Adam(learning_rate = 2e-5), \n",
        "              loss = tf.keras.losses.BinaryCrossentropy(),\n",
        "              metrics = [tf.keras.metrics.BinaryAccuracy()])\n",
        "model.summary()\n"
      ],
      "execution_count": 125,
      "outputs": [
        {
          "output_type": "stream",
          "text": [
            "Model: \"model_1\"\n",
            "__________________________________________________________________________________________________\n",
            "Layer (type)                    Output Shape         Param #     Connected to                     \n",
            "==================================================================================================\n",
            "input_word_ids (InputLayer)     [(None, 128)]        0                                            \n",
            "__________________________________________________________________________________________________\n",
            "input_mask (InputLayer)         [(None, 128)]        0                                            \n",
            "__________________________________________________________________________________________________\n",
            "input_type_ids (InputLayer)     [(None, 128)]        0                                            \n",
            "__________________________________________________________________________________________________\n",
            "keras_layer_7 (KerasLayer)      [(None, 768), (None, 109482241   input_word_ids[0][0]             \n",
            "                                                                 input_mask[0][0]                 \n",
            "                                                                 input_type_ids[0][0]             \n",
            "__________________________________________________________________________________________________\n",
            "dropout_3 (Dropout)             (None, 768)          0           keras_layer_7[0][0]              \n",
            "__________________________________________________________________________________________________\n",
            "output (Dense)                  (None, 1)            769         dropout_3[0][0]                  \n",
            "==================================================================================================\n",
            "Total params: 109,483,010\n",
            "Trainable params: 109,483,009\n",
            "Non-trainable params: 1\n",
            "__________________________________________________________________________________________________\n"
          ],
          "name": "stdout"
        }
      ]
    },
    {
      "cell_type": "code",
      "metadata": {
        "id": "5w-DHaWOaoiQ",
        "colab": {
          "base_uri": "https://localhost:8080/",
          "height": 338
        },
        "outputId": "7883b0d3-421c-4b16-8ea2-65ad14352fa5"
      },
      "source": [
        "tf.keras.utils.plot_model(model = model, show_shapes = True, dpi = 76)"
      ],
      "execution_count": 126,
      "outputs": [
        {
          "output_type": "execute_result",
          "data": {
            "image/png": "[encoded data removed]",
            "text/plain": [
              "<IPython.core.display.Image object>"
            ]
          },
          "metadata": {
            "tags": []
          },
          "execution_count": 126
        }
      ]
    },
    {
      "cell_type": "code",
      "metadata": {
        "id": "h6ayrmc4bF4K",
        "colab": {
          "base_uri": "https://localhost:8080/"
        },
        "outputId": "41c1d7cf-3b71-41e9-cee7-b1d623234b77"
      },
      "source": [
        "#Train_model\n",
        "epochs = 5\n",
        "history = model.fit(train_data, \n",
        "                    validation_data = valid_data, \n",
        "                    epochs = epochs,\n",
        "                    verbose = 1)"
      ],
      "execution_count": 127,
      "outputs": [
        {
          "output_type": "stream",
          "text": [
            "Epoch 1/5\n",
            "625/625 [==============================] - 555s 859ms/step - loss: 0.4339 - binary_accuracy: 0.7855 - val_loss: 0.2677 - val_binary_accuracy: 0.8886\n",
            "Epoch 2/5\n",
            "625/625 [==============================] - 548s 869ms/step - loss: 0.1892 - binary_accuracy: 0.9254 - val_loss: 0.3277 - val_binary_accuracy: 0.8846\n",
            "Epoch 3/5\n",
            "625/625 [==============================] - 548s 869ms/step - loss: 0.0687 - binary_accuracy: 0.9761 - val_loss: 0.4626 - val_binary_accuracy: 0.8816\n",
            "Epoch 4/5\n",
            "625/625 [==============================] - 548s 870ms/step - loss: 0.0260 - binary_accuracy: 0.9925 - val_loss: 0.4917 - val_binary_accuracy: 0.8768\n",
            "Epoch 5/5\n",
            "625/625 [==============================] - 548s 869ms/step - loss: 0.0196 - binary_accuracy: 0.9939 - val_loss: 0.5763 - val_binary_accuracy: 0.8860\n"
          ],
          "name": "stdout"
        }
      ]
    },
    {
      "cell_type": "markdown",
      "metadata": {
        "id": "vVQFUDUN4sqR"
      },
      "source": [
        "Evaluation"
      ]
    },
    {
      "cell_type": "code",
      "metadata": {
        "id": "dOqOdZZ-40gP"
      },
      "source": [
        "##preparing the test dataset\n",
        "test_data = tf.data.Dataset.from_tensor_slices((test_df['text'].values, test_df['label'].values))\n",
        "test_data = (test_data.map(to_feature_map,\n",
        "                        num_parallel_calls = tf.data.experimental.AUTOTUNE)\n",
        "        .shuffle(1000)\n",
        "        .batch(32, drop_remainder = True)\n",
        "        .prefetch(tf.data.experimental.AUTOTUNE))\n"
      ],
      "execution_count": 135,
      "outputs": []
    },
    {
      "cell_type": "code",
      "metadata": {
        "id": "AJ8Q-p4RWMw_",
        "colab": {
          "base_uri": "https://localhost:8080/"
        },
        "outputId": "76213ac5-300e-4f29-c08e-947324858f40"
      },
      "source": [
        "results = model.evaluate(test_data)"
      ],
      "execution_count": 136,
      "outputs": [
        {
          "output_type": "stream",
          "text": [
            "781/781 [==============================] - 228s 286ms/step - loss: 0.5854 - binary_accuracy: 0.8798\n"
          ],
          "name": "stdout"
        }
      ]
    },
    {
      "cell_type": "code",
      "metadata": {
        "id": "LaK_rJTq_u3L",
        "colab": {
          "base_uri": "https://localhost:8080/"
        },
        "outputId": "abb5f83f-b3b0-41ea-c7d9-9b1074c5c0a5"
      },
      "source": [
        "print(f'The Accuracy of model on the test dataset is: {results[1]:.2f}')"
      ],
      "execution_count": 137,
      "outputs": [
        {
          "output_type": "stream",
          "text": [
            "The Accuracy of model on the test dataset is: 0.88\n"
          ],
          "name": "stdout"
        }
      ]
    },
    {
      "cell_type": "code",
      "metadata": {
        "id": "eccLtCjbcCYp"
      },
      "source": [
        ""
      ],
      "execution_count": null,
      "outputs": []
    }
  ]
}