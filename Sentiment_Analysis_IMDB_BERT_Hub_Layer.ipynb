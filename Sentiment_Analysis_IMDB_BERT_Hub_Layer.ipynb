{
  "nbformat": 4,
  "nbformat_minor": 0,
  "metadata": {
    "colab": {
      "name": "Sentiment_Analysis_IMDB_BERT_Hub_Layer.ipynb",
      "provenance": [],
      "collapsed_sections": [],
      "toc_visible": true,
      "mount_file_id": "1TctRkJhA_ZxDiBMMDBwDwXBOoZwtmzrv",
      "authorship_tag": "ABX9TyPFRp+395gxrjmpqa9olYs9",
      "include_colab_link": true
    },
    "kernelspec": {
      "name": "python3",
      "display_name": "Python 3"
    },
    "language_info": {
      "name": "python"
    },
    "accelerator": "GPU",
    "widgets": {
      "application/vnd.jupyter.widget-state+json": {
        "84b048611a4643faae0f80b11e22f8b5": {
          "model_module": "@jupyter-widgets/controls",
          "model_name": "HBoxModel",
          "state": {
            "_view_name": "HBoxView",
            "_dom_classes": [],
            "_model_name": "HBoxModel",
            "_view_module": "@jupyter-widgets/controls",
            "_model_module_version": "1.5.0",
            "_view_count": null,
            "_view_module_version": "1.5.0",
            "box_style": "",
            "layout": "IPY_MODEL_d5c1b73a63f84d00b7351d440447e183",
            "_model_module": "@jupyter-widgets/controls",
            "children": [
              "IPY_MODEL_43347cbde9f649fcbc676a16acdf5226",
              "IPY_MODEL_19c8fe9439894f77b3858b8dbb11f42f"
            ]
          }
        },
        "d5c1b73a63f84d00b7351d440447e183": {
          "model_module": "@jupyter-widgets/base",
          "model_name": "LayoutModel",
          "state": {
            "_view_name": "LayoutView",
            "grid_template_rows": null,
            "right": null,
            "justify_content": null,
            "_view_module": "@jupyter-widgets/base",
            "overflow": null,
            "_model_module_version": "1.2.0",
            "_view_count": null,
            "flex_flow": null,
            "width": null,
            "min_width": null,
            "border": null,
            "align_items": null,
            "bottom": null,
            "_model_module": "@jupyter-widgets/base",
            "top": null,
            "grid_column": null,
            "overflow_y": null,
            "overflow_x": null,
            "grid_auto_flow": null,
            "grid_area": null,
            "grid_template_columns": null,
            "flex": null,
            "_model_name": "LayoutModel",
            "justify_items": null,
            "grid_row": null,
            "max_height": null,
            "align_content": null,
            "visibility": null,
            "align_self": null,
            "height": null,
            "min_height": null,
            "padding": null,
            "grid_auto_rows": null,
            "grid_gap": null,
            "max_width": null,
            "order": null,
            "_view_module_version": "1.2.0",
            "grid_template_areas": null,
            "object_position": null,
            "object_fit": null,
            "grid_auto_columns": null,
            "margin": null,
            "display": null,
            "left": null
          }
        },
        "43347cbde9f649fcbc676a16acdf5226": {
          "model_module": "@jupyter-widgets/controls",
          "model_name": "FloatProgressModel",
          "state": {
            "_view_name": "ProgressView",
            "style": "IPY_MODEL_a7acc9b26f5d433f946aae56272714d4",
            "_dom_classes": [],
            "description": "Downloading: 100%",
            "_model_name": "FloatProgressModel",
            "bar_style": "success",
            "max": 231508,
            "_view_module": "@jupyter-widgets/controls",
            "_model_module_version": "1.5.0",
            "value": 231508,
            "_view_count": null,
            "_view_module_version": "1.5.0",
            "orientation": "horizontal",
            "min": 0,
            "description_tooltip": null,
            "_model_module": "@jupyter-widgets/controls",
            "layout": "IPY_MODEL_36182cedfb7f4fedb40e8befa5ed6df9"
          }
        },
        "19c8fe9439894f77b3858b8dbb11f42f": {
          "model_module": "@jupyter-widgets/controls",
          "model_name": "HTMLModel",
          "state": {
            "_view_name": "HTMLView",
            "style": "IPY_MODEL_4c525dbd08e84b179b26e3a3306f5acd",
            "_dom_classes": [],
            "description": "",
            "_model_name": "HTMLModel",
            "placeholder": "​",
            "_view_module": "@jupyter-widgets/controls",
            "_model_module_version": "1.5.0",
            "value": " 232k/232k [00:00&lt;00:00, 581kB/s]",
            "_view_count": null,
            "_view_module_version": "1.5.0",
            "description_tooltip": null,
            "_model_module": "@jupyter-widgets/controls",
            "layout": "IPY_MODEL_8b1f6d76ddaa4a85afcd60f0fc42f76f"
          }
        },
        "a7acc9b26f5d433f946aae56272714d4": {
          "model_module": "@jupyter-widgets/controls",
          "model_name": "ProgressStyleModel",
          "state": {
            "_view_name": "StyleView",
            "_model_name": "ProgressStyleModel",
            "description_width": "initial",
            "_view_module": "@jupyter-widgets/base",
            "_model_module_version": "1.5.0",
            "_view_count": null,
            "_view_module_version": "1.2.0",
            "bar_color": null,
            "_model_module": "@jupyter-widgets/controls"
          }
        },
        "36182cedfb7f4fedb40e8befa5ed6df9": {
          "model_module": "@jupyter-widgets/base",
          "model_name": "LayoutModel",
          "state": {
            "_view_name": "LayoutView",
            "grid_template_rows": null,
            "right": null,
            "justify_content": null,
            "_view_module": "@jupyter-widgets/base",
            "overflow": null,
            "_model_module_version": "1.2.0",
            "_view_count": null,
            "flex_flow": null,
            "width": null,
            "min_width": null,
            "border": null,
            "align_items": null,
            "bottom": null,
            "_model_module": "@jupyter-widgets/base",
            "top": null,
            "grid_column": null,
            "overflow_y": null,
            "overflow_x": null,
            "grid_auto_flow": null,
            "grid_area": null,
            "grid_template_columns": null,
            "flex": null,
            "_model_name": "LayoutModel",
            "justify_items": null,
            "grid_row": null,
            "max_height": null,
            "align_content": null,
            "visibility": null,
            "align_self": null,
            "height": null,
            "min_height": null,
            "padding": null,
            "grid_auto_rows": null,
            "grid_gap": null,
            "max_width": null,
            "order": null,
            "_view_module_version": "1.2.0",
            "grid_template_areas": null,
            "object_position": null,
            "object_fit": null,
            "grid_auto_columns": null,
            "margin": null,
            "display": null,
            "left": null
          }
        },
        "4c525dbd08e84b179b26e3a3306f5acd": {
          "model_module": "@jupyter-widgets/controls",
          "model_name": "DescriptionStyleModel",
          "state": {
            "_view_name": "StyleView",
            "_model_name": "DescriptionStyleModel",
            "description_width": "",
            "_view_module": "@jupyter-widgets/base",
            "_model_module_version": "1.5.0",
            "_view_count": null,
            "_view_module_version": "1.2.0",
            "_model_module": "@jupyter-widgets/controls"
          }
        },
        "8b1f6d76ddaa4a85afcd60f0fc42f76f": {
          "model_module": "@jupyter-widgets/base",
          "model_name": "LayoutModel",
          "state": {
            "_view_name": "LayoutView",
            "grid_template_rows": null,
            "right": null,
            "justify_content": null,
            "_view_module": "@jupyter-widgets/base",
            "overflow": null,
            "_model_module_version": "1.2.0",
            "_view_count": null,
            "flex_flow": null,
            "width": null,
            "min_width": null,
            "border": null,
            "align_items": null,
            "bottom": null,
            "_model_module": "@jupyter-widgets/base",
            "top": null,
            "grid_column": null,
            "overflow_y": null,
            "overflow_x": null,
            "grid_auto_flow": null,
            "grid_area": null,
            "grid_template_columns": null,
            "flex": null,
            "_model_name": "LayoutModel",
            "justify_items": null,
            "grid_row": null,
            "max_height": null,
            "align_content": null,
            "visibility": null,
            "align_self": null,
            "height": null,
            "min_height": null,
            "padding": null,
            "grid_auto_rows": null,
            "grid_gap": null,
            "max_width": null,
            "order": null,
            "_view_module_version": "1.2.0",
            "grid_template_areas": null,
            "object_position": null,
            "object_fit": null,
            "grid_auto_columns": null,
            "margin": null,
            "display": null,
            "left": null
          }
        },
        "49dcb126d53341c09b6d3c31296aad7a": {
          "model_module": "@jupyter-widgets/controls",
          "model_name": "HBoxModel",
          "state": {
            "_view_name": "HBoxView",
            "_dom_classes": [],
            "_model_name": "HBoxModel",
            "_view_module": "@jupyter-widgets/controls",
            "_model_module_version": "1.5.0",
            "_view_count": null,
            "_view_module_version": "1.5.0",
            "box_style": "",
            "layout": "IPY_MODEL_60e0c040a6be438ead3876d0597fba28",
            "_model_module": "@jupyter-widgets/controls",
            "children": [
              "IPY_MODEL_45c427398d924d409ad7fdfda91bc5a3",
              "IPY_MODEL_af06097b0c1548d983b98208b28f3545"
            ]
          }
        },
        "60e0c040a6be438ead3876d0597fba28": {
          "model_module": "@jupyter-widgets/base",
          "model_name": "LayoutModel",
          "state": {
            "_view_name": "LayoutView",
            "grid_template_rows": null,
            "right": null,
            "justify_content": null,
            "_view_module": "@jupyter-widgets/base",
            "overflow": null,
            "_model_module_version": "1.2.0",
            "_view_count": null,
            "flex_flow": null,
            "width": null,
            "min_width": null,
            "border": null,
            "align_items": null,
            "bottom": null,
            "_model_module": "@jupyter-widgets/base",
            "top": null,
            "grid_column": null,
            "overflow_y": null,
            "overflow_x": null,
            "grid_auto_flow": null,
            "grid_area": null,
            "grid_template_columns": null,
            "flex": null,
            "_model_name": "LayoutModel",
            "justify_items": null,
            "grid_row": null,
            "max_height": null,
            "align_content": null,
            "visibility": null,
            "align_self": null,
            "height": null,
            "min_height": null,
            "padding": null,
            "grid_auto_rows": null,
            "grid_gap": null,
            "max_width": null,
            "order": null,
            "_view_module_version": "1.2.0",
            "grid_template_areas": null,
            "object_position": null,
            "object_fit": null,
            "grid_auto_columns": null,
            "margin": null,
            "display": null,
            "left": null
          }
        },
        "45c427398d924d409ad7fdfda91bc5a3": {
          "model_module": "@jupyter-widgets/controls",
          "model_name": "FloatProgressModel",
          "state": {
            "_view_name": "ProgressView",
            "style": "IPY_MODEL_5d108faf6f27423aa3ee9342bbac9faa",
            "_dom_classes": [],
            "description": "Downloading: 100%",
            "_model_name": "FloatProgressModel",
            "bar_style": "success",
            "max": 28,
            "_view_module": "@jupyter-widgets/controls",
            "_model_module_version": "1.5.0",
            "value": 28,
            "_view_count": null,
            "_view_module_version": "1.5.0",
            "orientation": "horizontal",
            "min": 0,
            "description_tooltip": null,
            "_model_module": "@jupyter-widgets/controls",
            "layout": "IPY_MODEL_0a536246a69f453091953bc07e7ec4ac"
          }
        },
        "af06097b0c1548d983b98208b28f3545": {
          "model_module": "@jupyter-widgets/controls",
          "model_name": "HTMLModel",
          "state": {
            "_view_name": "HTMLView",
            "style": "IPY_MODEL_cf4936f9af69489697292c172f3b251b",
            "_dom_classes": [],
            "description": "",
            "_model_name": "HTMLModel",
            "placeholder": "​",
            "_view_module": "@jupyter-widgets/controls",
            "_model_module_version": "1.5.0",
            "value": " 28.0/28.0 [00:00&lt;00:00, 142B/s]",
            "_view_count": null,
            "_view_module_version": "1.5.0",
            "description_tooltip": null,
            "_model_module": "@jupyter-widgets/controls",
            "layout": "IPY_MODEL_20a013d24fd44d268d5b28cc0296396f"
          }
        },
        "5d108faf6f27423aa3ee9342bbac9faa": {
          "model_module": "@jupyter-widgets/controls",
          "model_name": "ProgressStyleModel",
          "state": {
            "_view_name": "StyleView",
            "_model_name": "ProgressStyleModel",
            "description_width": "initial",
            "_view_module": "@jupyter-widgets/base",
            "_model_module_version": "1.5.0",
            "_view_count": null,
            "_view_module_version": "1.2.0",
            "bar_color": null,
            "_model_module": "@jupyter-widgets/controls"
          }
        },
        "0a536246a69f453091953bc07e7ec4ac": {
          "model_module": "@jupyter-widgets/base",
          "model_name": "LayoutModel",
          "state": {
            "_view_name": "LayoutView",
            "grid_template_rows": null,
            "right": null,
            "justify_content": null,
            "_view_module": "@jupyter-widgets/base",
            "overflow": null,
            "_model_module_version": "1.2.0",
            "_view_count": null,
            "flex_flow": null,
            "width": null,
            "min_width": null,
            "border": null,
            "align_items": null,
            "bottom": null,
            "_model_module": "@jupyter-widgets/base",
            "top": null,
            "grid_column": null,
            "overflow_y": null,
            "overflow_x": null,
            "grid_auto_flow": null,
            "grid_area": null,
            "grid_template_columns": null,
            "flex": null,
            "_model_name": "LayoutModel",
            "justify_items": null,
            "grid_row": null,
            "max_height": null,
            "align_content": null,
            "visibility": null,
            "align_self": null,
            "height": null,
            "min_height": null,
            "padding": null,
            "grid_auto_rows": null,
            "grid_gap": null,
            "max_width": null,
            "order": null,
            "_view_module_version": "1.2.0",
            "grid_template_areas": null,
            "object_position": null,
            "object_fit": null,
            "grid_auto_columns": null,
            "margin": null,
            "display": null,
            "left": null
          }
        },
        "cf4936f9af69489697292c172f3b251b": {
          "model_module": "@jupyter-widgets/controls",
          "model_name": "DescriptionStyleModel",
          "state": {
            "_view_name": "StyleView",
            "_model_name": "DescriptionStyleModel",
            "description_width": "",
            "_view_module": "@jupyter-widgets/base",
            "_model_module_version": "1.5.0",
            "_view_count": null,
            "_view_module_version": "1.2.0",
            "_model_module": "@jupyter-widgets/controls"
          }
        },
        "20a013d24fd44d268d5b28cc0296396f": {
          "model_module": "@jupyter-widgets/base",
          "model_name": "LayoutModel",
          "state": {
            "_view_name": "LayoutView",
            "grid_template_rows": null,
            "right": null,
            "justify_content": null,
            "_view_module": "@jupyter-widgets/base",
            "overflow": null,
            "_model_module_version": "1.2.0",
            "_view_count": null,
            "flex_flow": null,
            "width": null,
            "min_width": null,
            "border": null,
            "align_items": null,
            "bottom": null,
            "_model_module": "@jupyter-widgets/base",
            "top": null,
            "grid_column": null,
            "overflow_y": null,
            "overflow_x": null,
            "grid_auto_flow": null,
            "grid_area": null,
            "grid_template_columns": null,
            "flex": null,
            "_model_name": "LayoutModel",
            "justify_items": null,
            "grid_row": null,
            "max_height": null,
            "align_content": null,
            "visibility": null,
            "align_self": null,
            "height": null,
            "min_height": null,
            "padding": null,
            "grid_auto_rows": null,
            "grid_gap": null,
            "max_width": null,
            "order": null,
            "_view_module_version": "1.2.0",
            "grid_template_areas": null,
            "object_position": null,
            "object_fit": null,
            "grid_auto_columns": null,
            "margin": null,
            "display": null,
            "left": null
          }
        },
        "9d54f42cf0ff49ee993d8ed13c4a6806": {
          "model_module": "@jupyter-widgets/controls",
          "model_name": "HBoxModel",
          "state": {
            "_view_name": "HBoxView",
            "_dom_classes": [],
            "_model_name": "HBoxModel",
            "_view_module": "@jupyter-widgets/controls",
            "_model_module_version": "1.5.0",
            "_view_count": null,
            "_view_module_version": "1.5.0",
            "box_style": "",
            "layout": "IPY_MODEL_b6c15afc2da34aed825afcbaf44660f0",
            "_model_module": "@jupyter-widgets/controls",
            "children": [
              "IPY_MODEL_2551b3490dd44766af3e5a3c7584e7d4",
              "IPY_MODEL_a73ee5b7af374ee4a5d725cd02ead1f5"
            ]
          }
        },
        "b6c15afc2da34aed825afcbaf44660f0": {
          "model_module": "@jupyter-widgets/base",
          "model_name": "LayoutModel",
          "state": {
            "_view_name": "LayoutView",
            "grid_template_rows": null,
            "right": null,
            "justify_content": null,
            "_view_module": "@jupyter-widgets/base",
            "overflow": null,
            "_model_module_version": "1.2.0",
            "_view_count": null,
            "flex_flow": null,
            "width": null,
            "min_width": null,
            "border": null,
            "align_items": null,
            "bottom": null,
            "_model_module": "@jupyter-widgets/base",
            "top": null,
            "grid_column": null,
            "overflow_y": null,
            "overflow_x": null,
            "grid_auto_flow": null,
            "grid_area": null,
            "grid_template_columns": null,
            "flex": null,
            "_model_name": "LayoutModel",
            "justify_items": null,
            "grid_row": null,
            "max_height": null,
            "align_content": null,
            "visibility": null,
            "align_self": null,
            "height": null,
            "min_height": null,
            "padding": null,
            "grid_auto_rows": null,
            "grid_gap": null,
            "max_width": null,
            "order": null,
            "_view_module_version": "1.2.0",
            "grid_template_areas": null,
            "object_position": null,
            "object_fit": null,
            "grid_auto_columns": null,
            "margin": null,
            "display": null,
            "left": null
          }
        },
        "2551b3490dd44766af3e5a3c7584e7d4": {
          "model_module": "@jupyter-widgets/controls",
          "model_name": "FloatProgressModel",
          "state": {
            "_view_name": "ProgressView",
            "style": "IPY_MODEL_fc7c46ccab30471c88144db1714b5d42",
            "_dom_classes": [],
            "description": "Downloading: 100%",
            "_model_name": "FloatProgressModel",
            "bar_style": "success",
            "max": 466062,
            "_view_module": "@jupyter-widgets/controls",
            "_model_module_version": "1.5.0",
            "value": 466062,
            "_view_count": null,
            "_view_module_version": "1.5.0",
            "orientation": "horizontal",
            "min": 0,
            "description_tooltip": null,
            "_model_module": "@jupyter-widgets/controls",
            "layout": "IPY_MODEL_299f44f1767745f98101d398e40bce58"
          }
        },
        "a73ee5b7af374ee4a5d725cd02ead1f5": {
          "model_module": "@jupyter-widgets/controls",
          "model_name": "HTMLModel",
          "state": {
            "_view_name": "HTMLView",
            "style": "IPY_MODEL_3c54f57ffda24719bd24f26a39020700",
            "_dom_classes": [],
            "description": "",
            "_model_name": "HTMLModel",
            "placeholder": "​",
            "_view_module": "@jupyter-widgets/controls",
            "_model_module_version": "1.5.0",
            "value": " 466k/466k [00:00&lt;00:00, 5.18MB/s]",
            "_view_count": null,
            "_view_module_version": "1.5.0",
            "description_tooltip": null,
            "_model_module": "@jupyter-widgets/controls",
            "layout": "IPY_MODEL_b81a72c1a43344a78df6cd367bfdfd95"
          }
        },
        "fc7c46ccab30471c88144db1714b5d42": {
          "model_module": "@jupyter-widgets/controls",
          "model_name": "ProgressStyleModel",
          "state": {
            "_view_name": "StyleView",
            "_model_name": "ProgressStyleModel",
            "description_width": "initial",
            "_view_module": "@jupyter-widgets/base",
            "_model_module_version": "1.5.0",
            "_view_count": null,
            "_view_module_version": "1.2.0",
            "bar_color": null,
            "_model_module": "@jupyter-widgets/controls"
          }
        },
        "299f44f1767745f98101d398e40bce58": {
          "model_module": "@jupyter-widgets/base",
          "model_name": "LayoutModel",
          "state": {
            "_view_name": "LayoutView",
            "grid_template_rows": null,
            "right": null,
            "justify_content": null,
            "_view_module": "@jupyter-widgets/base",
            "overflow": null,
            "_model_module_version": "1.2.0",
            "_view_count": null,
            "flex_flow": null,
            "width": null,
            "min_width": null,
            "border": null,
            "align_items": null,
            "bottom": null,
            "_model_module": "@jupyter-widgets/base",
            "top": null,
            "grid_column": null,
            "overflow_y": null,
            "overflow_x": null,
            "grid_auto_flow": null,
            "grid_area": null,
            "grid_template_columns": null,
            "flex": null,
            "_model_name": "LayoutModel",
            "justify_items": null,
            "grid_row": null,
            "max_height": null,
            "align_content": null,
            "visibility": null,
            "align_self": null,
            "height": null,
            "min_height": null,
            "padding": null,
            "grid_auto_rows": null,
            "grid_gap": null,
            "max_width": null,
            "order": null,
            "_view_module_version": "1.2.0",
            "grid_template_areas": null,
            "object_position": null,
            "object_fit": null,
            "grid_auto_columns": null,
            "margin": null,
            "display": null,
            "left": null
          }
        },
        "3c54f57ffda24719bd24f26a39020700": {
          "model_module": "@jupyter-widgets/controls",
          "model_name": "DescriptionStyleModel",
          "state": {
            "_view_name": "StyleView",
            "_model_name": "DescriptionStyleModel",
            "description_width": "",
            "_view_module": "@jupyter-widgets/base",
            "_model_module_version": "1.5.0",
            "_view_count": null,
            "_view_module_version": "1.2.0",
            "_model_module": "@jupyter-widgets/controls"
          }
        },
        "b81a72c1a43344a78df6cd367bfdfd95": {
          "model_module": "@jupyter-widgets/base",
          "model_name": "LayoutModel",
          "state": {
            "_view_name": "LayoutView",
            "grid_template_rows": null,
            "right": null,
            "justify_content": null,
            "_view_module": "@jupyter-widgets/base",
            "overflow": null,
            "_model_module_version": "1.2.0",
            "_view_count": null,
            "flex_flow": null,
            "width": null,
            "min_width": null,
            "border": null,
            "align_items": null,
            "bottom": null,
            "_model_module": "@jupyter-widgets/base",
            "top": null,
            "grid_column": null,
            "overflow_y": null,
            "overflow_x": null,
            "grid_auto_flow": null,
            "grid_area": null,
            "grid_template_columns": null,
            "flex": null,
            "_model_name": "LayoutModel",
            "justify_items": null,
            "grid_row": null,
            "max_height": null,
            "align_content": null,
            "visibility": null,
            "align_self": null,
            "height": null,
            "min_height": null,
            "padding": null,
            "grid_auto_rows": null,
            "grid_gap": null,
            "max_width": null,
            "order": null,
            "_view_module_version": "1.2.0",
            "grid_template_areas": null,
            "object_position": null,
            "object_fit": null,
            "grid_auto_columns": null,
            "margin": null,
            "display": null,
            "left": null
          }
        }
      }
    }
  },
  "cells": [
    {
      "cell_type": "markdown",
      "metadata": {
        "id": "view-in-github",
        "colab_type": "text"
      },
      "source": [
        "<a href=\"https://colab.research.google.com/github/sebastianJamesMI/Fellowship_AI_IMDB/blob/main/Sentiment_Analysis_IMDB_BERT_Hub_Layer.ipynb\" target=\"_parent\"><img src=\"https://colab.research.google.com/assets/colab-badge.svg\" alt=\"Open In Colab\"/></a>"
      ]
    },
    {
      "cell_type": "markdown",
      "metadata": {
        "id": "GarTRYs62E_S"
      },
      "source": [
        "\n",
        "- The objective here is to classify movie reviews as positive or negative. The original reviews were rated on a scale from 1 to 10. For Binary Classification, anything with <= 4 was classfed as negative and anything with >= 7 stars were classified as positive. \n",
        "\n",
        "\n",
        "********************************************************************************\n",
        "\n",
        "I use different strategies to perform this classification task starting with a simple RNN model (LSTM) then using more complex models. \n",
        "\n",
        "******************************************************************************\n",
        "\n",
        "\n",
        "\n",
        "\n",
        "This notebook uses fine tuning with BERT. The original source code for this model is available here: \n",
        "\n",
        "https://colab.research.google.com/drive/1934Mm2cwSSfT5bvi78-AExAl-hSfxCbq#scrollTo=hJ0NdZWVdhhG\n",
        "\n",
        "\n",
        "\n",
        "1. Tensorflow NLP tutorials: https://www.tensorflow.org/tutorials/keras/text_classification_with_hub\n",
        "\n",
        "2. Data reading and downloading, Aaron Kub: \n",
        "https://towardsdatascience.com/sentiment-analysis-with-python-part-1-5ce197074184\n",
        "\n",
        "3. Data Reading and Downloading: Georgios Drakos: https://gdcoder.com/sentiment-clas/\n",
        "\n",
        "4. Word Tokenization: Coursera Deep learning NLP courses by Andrew Ng\n",
        "\n",
        "4. An article on Medium by David Mraz: \n",
        "https://medium.com/atheros/text-classification-with-transformers-in-tensorflow-2-bert-2f4f16eff5ad\n",
        "\n",
        "\n",
        "5. This project uses the IMDB dataset compiled by Andrew Maas \n",
        "(see http://ai.stanford.edu/~amaas/data/sentiment/).\n"
      ]
    },
    {
      "cell_type": "markdown",
      "metadata": {
        "id": "EUzR97rjgW3P"
      },
      "source": [
        "Install Tranformers library from huggingface:\n",
        "https://huggingface.co/transformers/examples.html"
      ]
    },
    {
      "cell_type": "code",
      "metadata": {
        "colab": {
          "base_uri": "https://localhost:8080/"
        },
        "id": "1fl8o42QgUVe",
        "outputId": "d98c54be-7003-4bad-bf86-1daba925ffaf"
      },
      "source": [
        "!pip install transformers"
      ],
      "execution_count": 8,
      "outputs": [
        {
          "output_type": "stream",
          "text": [
            "Collecting transformers\n",
            "\u001b[?25l  Downloading https://files.pythonhosted.org/packages/81/91/61d69d58a1af1bd81d9ca9d62c90a6de3ab80d77f27c5df65d9a2c1f5626/transformers-4.5.0-py3-none-any.whl (2.1MB)\n",
            "\u001b[K     |████████████████████████████████| 2.2MB 17.3MB/s \n",
            "\u001b[?25hCollecting tokenizers<0.11,>=0.10.1\n",
            "\u001b[?25l  Downloading https://files.pythonhosted.org/packages/ae/04/5b870f26a858552025a62f1649c20d29d2672c02ff3c3fb4c688ca46467a/tokenizers-0.10.2-cp37-cp37m-manylinux2010_x86_64.whl (3.3MB)\n",
            "\u001b[K     |████████████████████████████████| 3.3MB 51.8MB/s \n",
            "\u001b[?25hRequirement already satisfied: regex!=2019.12.17 in /usr/local/lib/python3.7/dist-packages (from transformers) (2019.12.20)\n",
            "Collecting sacremoses\n",
            "\u001b[?25l  Downloading https://files.pythonhosted.org/packages/08/cd/342e584ee544d044fb573ae697404ce22ede086c9e87ce5960772084cad0/sacremoses-0.0.44.tar.gz (862kB)\n",
            "\u001b[K     |████████████████████████████████| 870kB 51.7MB/s \n",
            "\u001b[?25hRequirement already satisfied: requests in /usr/local/lib/python3.7/dist-packages (from transformers) (2.23.0)\n",
            "Requirement already satisfied: tqdm>=4.27 in /usr/local/lib/python3.7/dist-packages (from transformers) (4.41.1)\n",
            "Requirement already satisfied: numpy>=1.17 in /usr/local/lib/python3.7/dist-packages (from transformers) (1.19.5)\n",
            "Requirement already satisfied: filelock in /usr/local/lib/python3.7/dist-packages (from transformers) (3.0.12)\n",
            "Requirement already satisfied: importlib-metadata; python_version < \"3.8\" in /usr/local/lib/python3.7/dist-packages (from transformers) (3.8.1)\n",
            "Requirement already satisfied: packaging in /usr/local/lib/python3.7/dist-packages (from transformers) (20.9)\n",
            "Requirement already satisfied: six in /usr/local/lib/python3.7/dist-packages (from sacremoses->transformers) (1.15.0)\n",
            "Requirement already satisfied: click in /usr/local/lib/python3.7/dist-packages (from sacremoses->transformers) (7.1.2)\n",
            "Requirement already satisfied: joblib in /usr/local/lib/python3.7/dist-packages (from sacremoses->transformers) (1.0.1)\n",
            "Requirement already satisfied: urllib3!=1.25.0,!=1.25.1,<1.26,>=1.21.1 in /usr/local/lib/python3.7/dist-packages (from requests->transformers) (1.24.3)\n",
            "Requirement already satisfied: certifi>=2017.4.17 in /usr/local/lib/python3.7/dist-packages (from requests->transformers) (2020.12.5)\n",
            "Requirement already satisfied: chardet<4,>=3.0.2 in /usr/local/lib/python3.7/dist-packages (from requests->transformers) (3.0.4)\n",
            "Requirement already satisfied: idna<3,>=2.5 in /usr/local/lib/python3.7/dist-packages (from requests->transformers) (2.10)\n",
            "Requirement already satisfied: zipp>=0.5 in /usr/local/lib/python3.7/dist-packages (from importlib-metadata; python_version < \"3.8\"->transformers) (3.4.1)\n",
            "Requirement already satisfied: typing-extensions>=3.6.4; python_version < \"3.8\" in /usr/local/lib/python3.7/dist-packages (from importlib-metadata; python_version < \"3.8\"->transformers) (3.7.4.3)\n",
            "Requirement already satisfied: pyparsing>=2.0.2 in /usr/local/lib/python3.7/dist-packages (from packaging->transformers) (2.4.7)\n",
            "Building wheels for collected packages: sacremoses\n",
            "  Building wheel for sacremoses (setup.py) ... \u001b[?25l\u001b[?25hdone\n",
            "  Created wheel for sacremoses: filename=sacremoses-0.0.44-cp37-none-any.whl size=886084 sha256=e407f3011d4b27b93920d6ac400d3aac4af102bc69129b595a3804fb1a5eaf4c\n",
            "  Stored in directory: /root/.cache/pip/wheels/3e/fb/c0/13ab4d63d537658f448366744654323077c4d90069b6512f3c\n",
            "Successfully built sacremoses\n",
            "Installing collected packages: tokenizers, sacremoses, transformers\n",
            "Successfully installed sacremoses-0.0.44 tokenizers-0.10.2 transformers-4.5.0\n"
          ],
          "name": "stdout"
        }
      ]
    },
    {
      "cell_type": "code",
      "metadata": {
        "colab": {
          "base_uri": "https://localhost:8080/",
          "height": 164,
          "referenced_widgets": [
            "84b048611a4643faae0f80b11e22f8b5",
            "d5c1b73a63f84d00b7351d440447e183",
            "43347cbde9f649fcbc676a16acdf5226",
            "19c8fe9439894f77b3858b8dbb11f42f",
            "a7acc9b26f5d433f946aae56272714d4",
            "36182cedfb7f4fedb40e8befa5ed6df9",
            "4c525dbd08e84b179b26e3a3306f5acd",
            "8b1f6d76ddaa4a85afcd60f0fc42f76f",
            "49dcb126d53341c09b6d3c31296aad7a",
            "60e0c040a6be438ead3876d0597fba28",
            "45c427398d924d409ad7fdfda91bc5a3",
            "af06097b0c1548d983b98208b28f3545",
            "5d108faf6f27423aa3ee9342bbac9faa",
            "0a536246a69f453091953bc07e7ec4ac",
            "cf4936f9af69489697292c172f3b251b",
            "20a013d24fd44d268d5b28cc0296396f",
            "9d54f42cf0ff49ee993d8ed13c4a6806",
            "b6c15afc2da34aed825afcbaf44660f0",
            "2551b3490dd44766af3e5a3c7584e7d4",
            "a73ee5b7af374ee4a5d725cd02ead1f5",
            "fc7c46ccab30471c88144db1714b5d42",
            "299f44f1767745f98101d398e40bce58",
            "3c54f57ffda24719bd24f26a39020700",
            "b81a72c1a43344a78df6cd367bfdfd95"
          ]
        },
        "id": "u7LpeS9whj_9",
        "outputId": "c6cbee27-2079-4086-f4fc-c7d6aa757cf8"
      },
      "source": [
        "from transformers import BertTokenizer\n",
        "tokenizer = BertTokenizer.from_pretrained('bert-base-uncased', do_lower_case=True)"
      ],
      "execution_count": 16,
      "outputs": [
        {
          "output_type": "display_data",
          "data": {
            "application/vnd.jupyter.widget-view+json": {
              "model_id": "84b048611a4643faae0f80b11e22f8b5",
              "version_minor": 0,
              "version_major": 2
            },
            "text/plain": [
              "HBox(children=(FloatProgress(value=0.0, description='Downloading', max=231508.0, style=ProgressStyle(descripti…"
            ]
          },
          "metadata": {
            "tags": []
          }
        },
        {
          "output_type": "stream",
          "text": [
            "\n"
          ],
          "name": "stdout"
        },
        {
          "output_type": "display_data",
          "data": {
            "application/vnd.jupyter.widget-view+json": {
              "model_id": "49dcb126d53341c09b6d3c31296aad7a",
              "version_minor": 0,
              "version_major": 2
            },
            "text/plain": [
              "HBox(children=(FloatProgress(value=0.0, description='Downloading', max=28.0, style=ProgressStyle(description_w…"
            ]
          },
          "metadata": {
            "tags": []
          }
        },
        {
          "output_type": "stream",
          "text": [
            "\n"
          ],
          "name": "stdout"
        },
        {
          "output_type": "display_data",
          "data": {
            "application/vnd.jupyter.widget-view+json": {
              "model_id": "9d54f42cf0ff49ee993d8ed13c4a6806",
              "version_minor": 0,
              "version_major": 2
            },
            "text/plain": [
              "HBox(children=(FloatProgress(value=0.0, description='Downloading', max=466062.0, style=ProgressStyle(descripti…"
            ]
          },
          "metadata": {
            "tags": []
          }
        },
        {
          "output_type": "stream",
          "text": [
            "\n"
          ],
          "name": "stdout"
        }
      ]
    },
    {
      "cell_type": "code",
      "metadata": {
        "id": "LkVPyAfrzMVw"
      },
      "source": [
        "## Import Dependencies\n",
        "import numpy as np\n",
        "import pandas as pd\n",
        "from glob import glob\n",
        "import random\n",
        "import os\n",
        "import re\n",
        "import string\n",
        "import math\n",
        "\n",
        "import tensorflow as tf\n",
        "import tensorflow_hub as hub\n",
        "\n",
        "from tensorflow.keras.callbacks import ReduceLROnPlateau, EarlyStopping, ModelCheckpoint\n",
        "from tensorflow.keras.models import Sequential, Model, load_model\n",
        "from tensorflow.keras.layers import Dense, LSTM, Dropout, Embedding, Bidirectional, Conv1D, GlobalMaxPooling1D\n",
        "\n",
        "from sklearn.metrics import accuracy_score\n",
        "from sklearn.model_selection import train_test_split\n",
        "\n",
        "import matplotlib.pyplot as plt\n",
        "%matplotlib inline"
      ],
      "execution_count": 10,
      "outputs": []
    },
    {
      "cell_type": "markdown",
      "metadata": {
        "id": "EVz7dEace2jI"
      },
      "source": [
        "Load the dataset"
      ]
    },
    {
      "cell_type": "code",
      "metadata": {
        "id": "JrMMFVoGkWlM"
      },
      "source": [
        "!pip install -q tensorflow-datasets"
      ],
      "execution_count": 11,
      "outputs": []
    },
    {
      "cell_type": "code",
      "metadata": {
        "colab": {
          "base_uri": "https://localhost:8080/"
        },
        "id": "qPfmzQL3fXl_",
        "outputId": "7d5ab08d-91f6-44e4-de14-294657689e14"
      },
      "source": [
        "(ds_train, ds_test), ds_info = tfds.load('imdb_reviews', \n",
        "          split = (tfds.Split.TRAIN, tfds.Split.TEST),\n",
        "          as_supervised=True,\n",
        "          with_info=True)\n",
        "print('info', ds_info)"
      ],
      "execution_count": 12,
      "outputs": [
        {
          "output_type": "stream",
          "text": [
            "INFO:absl:No config specified, defaulting to first: imdb_reviews/plain_text\n",
            "INFO:absl:Load dataset info from /root/tensorflow_datasets/imdb_reviews/plain_text/1.0.0\n",
            "INFO:absl:Reusing dataset imdb_reviews (/root/tensorflow_datasets/imdb_reviews/plain_text/1.0.0)\n",
            "INFO:absl:Constructing tf.data.Dataset for split (Split('train'), Split('test')), from /root/tensorflow_datasets/imdb_reviews/plain_text/1.0.0\n"
          ],
          "name": "stderr"
        },
        {
          "output_type": "stream",
          "text": [
            "info tfds.core.DatasetInfo(\n",
            "    name='imdb_reviews',\n",
            "    version=1.0.0,\n",
            "    description='Large Movie Review Dataset.\n",
            "This is a dataset for binary sentiment classification containing substantially more data than previous benchmark datasets. We provide a set of 25,000 highly polar movie reviews for training, and 25,000 for testing. There is additional unlabeled data for use as well.',\n",
            "    homepage='http://ai.stanford.edu/~amaas/data/sentiment/',\n",
            "    features=FeaturesDict({\n",
            "        'label': ClassLabel(shape=(), dtype=tf.int64, num_classes=2),\n",
            "        'text': Text(shape=(), dtype=tf.string),\n",
            "    }),\n",
            "    total_num_examples=100000,\n",
            "    splits={\n",
            "        'test': 25000,\n",
            "        'train': 25000,\n",
            "        'unsupervised': 50000,\n",
            "    },\n",
            "    supervised_keys=('text', 'label'),\n",
            "    citation=\"\"\"@InProceedings{maas-EtAl:2011:ACL-HLT2011,\n",
            "      author    = {Maas, Andrew L.  and  Daly, Raymond E.  and  Pham, Peter T.  and  Huang, Dan  and  Ng, Andrew Y.  and  Potts, Christopher},\n",
            "      title     = {Learning Word Vectors for Sentiment Analysis},\n",
            "      booktitle = {Proceedings of the 49th Annual Meeting of the Association for Computational Linguistics: Human Language Technologies},\n",
            "      month     = {June},\n",
            "      year      = {2011},\n",
            "      address   = {Portland, Oregon, USA},\n",
            "      publisher = {Association for Computational Linguistics},\n",
            "      pages     = {142--150},\n",
            "      url       = {http://www.aclweb.org/anthology/P11-1015}\n",
            "    }\"\"\",\n",
            "    redistribution_info=,\n",
            ")\n",
            "\n"
          ],
          "name": "stdout"
        }
      ]
    },
    {
      "cell_type": "code",
      "metadata": {
        "colab": {
          "base_uri": "https://localhost:8080/"
        },
        "id": "P7Qd5x4-k7oR",
        "outputId": "0d77993b-8670-49d5-e7da-5ef59cb17869"
      },
      "source": [
        "for review, label in tfds.as_numpy(ds_train.take(5)):\n",
        "    print('review', review.decode()[0:50], label)"
      ],
      "execution_count": 13,
      "outputs": [
        {
          "output_type": "stream",
          "text": [
            "review This was an absolutely terrible movie. Don't be lu 0\n",
            "review I have been known to fall asleep during films, but 0\n",
            "review Mann photographs the Alberta Rocky Mountains in a  0\n",
            "review This is the kind of film for a snowy Sunday aftern 1\n",
            "review As others have mentioned, all the women that go nu 1\n"
          ],
          "name": "stdout"
        }
      ]
    },
    {
      "cell_type": "markdown",
      "metadata": {
        "id": "TVIi5MyEin0E"
      },
      "source": [
        "Map the words and labels to the format needed by BERT. This can be done using the functions below or the encode_plus function"
      ]
    },
    {
      "cell_type": "code",
      "metadata": {
        "id": "6qqBVS1k97Zw"
      },
      "source": [
        "# can be up to 512 for BERT\n",
        "max_length = 512\n",
        "batch_size = 6\n",
        "\n",
        "def convert_example_to_feature(review):\n",
        "  # combine step for tokenization, WordPiece vector mapping, adding special tokens as well as truncating reviews longer than the max length\n",
        "  return tokenizer.encode_plus(review, \n",
        "                add_special_tokens = True, # add [CLS], [SEP]\n",
        "                max_length = max_length, # max length of the text that can go to BERT\n",
        "                padding='max_length', # add [PAD] tokens\n",
        "                return_attention_mask = True, # add attention mask to not focus on pad tokens\n",
        "              )\n",
        "\n",
        "# map to the expected input to TFBertForSequenceClassification, see here \n",
        "def map_example_to_dict(input_ids, attention_masks, token_type_ids, label):\n",
        "  return {\n",
        "      \"input_ids\": input_ids,\n",
        "      \"token_type_ids\": token_type_ids,\n",
        "      \"attention_mask\": attention_masks,\n",
        "  }, label\n",
        "\n",
        "def encode_examples(ds, limit=-1):\n",
        "\n",
        "  # prepare list, so that we can build up final TensorFlow dataset from slices.\n",
        "  input_ids_list = []\n",
        "  token_type_ids_list = []\n",
        "  attention_mask_list = []\n",
        "  label_list = []\n",
        "\n",
        "  if (limit > 0):\n",
        "      ds = ds.take(limit)\n",
        "    \n",
        "  for review, label in tfds.as_numpy(ds):\n",
        "\n",
        "    bert_input = convert_example_to_feature(review.decode())\n",
        "  \n",
        "    input_ids_list.append(bert_input['input_ids'])\n",
        "    token_type_ids_list.append(bert_input['token_type_ids'])\n",
        "    attention_mask_list.append(bert_input['attention_mask'])\n",
        "    label_list.append([label])\n",
        "\n",
        "  return tf.data.Dataset.from_tensor_slices((input_ids_list, attention_mask_list, token_type_ids_list, label_list)).map(map_example_to_dict)"
      ],
      "execution_count": 22,
      "outputs": []
    },
    {
      "cell_type": "code",
      "metadata": {
        "id": "MJx2nT_ri0ve"
      },
      "source": [
        "# train dataset\n",
        "ds_train_encoded = encode_examples(ds_train).shuffle(10000).batch(batch_size)\n",
        "# test dataset\n",
        "ds_test_encoded = encode_examples(ds_test).batch(batch_size)"
      ],
      "execution_count": null,
      "outputs": []
    },
    {
      "cell_type": "markdown",
      "metadata": {
        "id": "0LJqKw6-lUPG"
      },
      "source": [
        "###Build the model"
      ]
    },
    {
      "cell_type": "code",
      "metadata": {
        "colab": {
          "base_uri": "https://localhost:8080/"
        },
        "id": "lW6Aim6KkHy8",
        "outputId": "2864bc9e-f209-44bf-c6ee-6a006ffcc113"
      },
      "source": [
        "from transformers import TFBertForSequenceClassification\n",
        "import tensorflow as tf\n",
        "\n",
        "# recommended learning rate for Adam 5e-5, 3e-5, 2e-5\n",
        "learning_rate = 2e-5\n",
        "\n",
        "# we will do just 1 epoch for illustration, though multiple epochs might be better as long as we will not overfit the model\n",
        "number_of_epochs = 1\n",
        "\n",
        "\n",
        "# model initialization\n",
        "model = TFBertForSequenceClassification.from_pretrained('bert-base-uncased')\n",
        "\n",
        "# choosing Adam optimizer\n",
        "optimizer = tf.keras.optimizers.Adam(learning_rate=learning_rate, epsilon=1e-08)\n",
        "\n",
        "# we do not have one-hot vectors, we can use sparce categorical cross entropy and accuracy\n",
        "loss = tf.keras.losses.SparseCategoricalCrossentropy(from_logits=True)\n",
        "metric = tf.keras.metrics.SparseCategoricalAccuracy('accuracy')\n",
        "\n",
        "model.compile(optimizer=optimizer, loss=loss, metrics=[metric])"
      ],
      "execution_count": 24,
      "outputs": [
        {
          "output_type": "stream",
          "text": [
            "All model checkpoint layers were used when initializing TFBertForSequenceClassification.\n",
            "\n",
            "Some layers of TFBertForSequenceClassification were not initialized from the model checkpoint at bert-base-uncased and are newly initialized: ['classifier']\n",
            "You should probably TRAIN this model on a down-stream task to be able to use it for predictions and inference.\n"
          ],
          "name": "stderr"
        }
      ]
    },
    {
      "cell_type": "code",
      "metadata": {
        "colab": {
          "base_uri": "https://localhost:8080/"
        },
        "id": "sGS-RDqPm8NP",
        "outputId": "2631eb93-747c-4d20-a85f-4ac64b83e4d0"
      },
      "source": [
        "bert_history = model.fit(ds_train_encoded, epochs=number_of_epochs)"
      ],
      "execution_count": null,
      "outputs": [
        {
          "output_type": "stream",
          "text": [
            "WARNING:tensorflow:The parameters `output_attentions`, `output_hidden_states` and `use_cache` cannot be updated when calling a model.They have to be set to True/False in the config object (i.e.: `config=XConfig.from_pretrained('name', output_attentions=True)`).\n",
            "WARNING:tensorflow:AutoGraph could not transform <bound method Socket.send of <zmq.sugar.socket.Socket object at 0x7fccdfab1d70>> and will run it as-is.\n",
            "Please report this to the TensorFlow team. When filing the bug, set the verbosity to 10 (on Linux, `export AUTOGRAPH_VERBOSITY=10`) and attach the full output.\n",
            "Cause: module, class, method, function, traceback, frame, or code object was expected, got cython_function_or_method\n",
            "To silence this warning, decorate the function with @tf.autograph.experimental.do_not_convert\n"
          ],
          "name": "stdout"
        },
        {
          "output_type": "stream",
          "text": [
            "WARNING:tensorflow:AutoGraph could not transform <bound method Socket.send of <zmq.sugar.socket.Socket object at 0x7fccdfab1d70>> and will run it as-is.\n",
            "Please report this to the TensorFlow team. When filing the bug, set the verbosity to 10 (on Linux, `export AUTOGRAPH_VERBOSITY=10`) and attach the full output.\n",
            "Cause: module, class, method, function, traceback, frame, or code object was expected, got cython_function_or_method\n",
            "To silence this warning, decorate the function with @tf.autograph.experimental.do_not_convert\n"
          ],
          "name": "stderr"
        },
        {
          "output_type": "stream",
          "text": [
            "WARNING: AutoGraph could not transform <bound method Socket.send of <zmq.sugar.socket.Socket object at 0x7fccdfab1d70>> and will run it as-is.\n",
            "Please report this to the TensorFlow team. When filing the bug, set the verbosity to 10 (on Linux, `export AUTOGRAPH_VERBOSITY=10`) and attach the full output.\n",
            "Cause: module, class, method, function, traceback, frame, or code object was expected, got cython_function_or_method\n",
            "To silence this warning, decorate the function with @tf.autograph.experimental.do_not_convert\n",
            "WARNING:tensorflow:AutoGraph could not transform <function wrap at 0x7fccfb35ec20> and will run it as-is.\n",
            "Cause: while/else statement not yet supported\n",
            "To silence this warning, decorate the function with @tf.autograph.experimental.do_not_convert\n"
          ],
          "name": "stdout"
        },
        {
          "output_type": "stream",
          "text": [
            "WARNING:tensorflow:The parameters `output_attentions`, `output_hidden_states` and `use_cache` cannot be updated when calling a model.They have to be set to True/False in the config object (i.e.: `config=XConfig.from_pretrained('name', output_attentions=True)`).\n",
            "WARNING:tensorflow:AutoGraph could not transform <function wrap at 0x7fccfb35ec20> and will run it as-is.\n",
            "Cause: while/else statement not yet supported\n",
            "To silence this warning, decorate the function with @tf.autograph.experimental.do_not_convert\n"
          ],
          "name": "stderr"
        },
        {
          "output_type": "stream",
          "text": [
            "WARNING:tensorflow:The parameter `return_dict` cannot be set in graph mode and will always be set to `True`.\n",
            "WARNING: AutoGraph could not transform <function wrap at 0x7fccfb35ec20> and will run it as-is.\n",
            "Cause: while/else statement not yet supported\n",
            "To silence this warning, decorate the function with @tf.autograph.experimental.do_not_convert\n"
          ],
          "name": "stdout"
        },
        {
          "output_type": "stream",
          "text": [
            "WARNING:tensorflow:The parameter `return_dict` cannot be set in graph mode and will always be set to `True`.\n"
          ],
          "name": "stderr"
        },
        {
          "output_type": "stream",
          "text": [
            "WARNING:tensorflow:The parameters `output_attentions`, `output_hidden_states` and `use_cache` cannot be updated when calling a model.They have to be set to True/False in the config object (i.e.: `config=XConfig.from_pretrained('name', output_attentions=True)`).\n"
          ],
          "name": "stdout"
        },
        {
          "output_type": "stream",
          "text": [
            "WARNING:tensorflow:The parameters `output_attentions`, `output_hidden_states` and `use_cache` cannot be updated when calling a model.They have to be set to True/False in the config object (i.e.: `config=XConfig.from_pretrained('name', output_attentions=True)`).\n"
          ],
          "name": "stderr"
        },
        {
          "output_type": "stream",
          "text": [
            "WARNING:tensorflow:The parameter `return_dict` cannot be set in graph mode and will always be set to `True`.\n"
          ],
          "name": "stdout"
        },
        {
          "output_type": "stream",
          "text": [
            "WARNING:tensorflow:The parameter `return_dict` cannot be set in graph mode and will always be set to `True`.\n"
          ],
          "name": "stderr"
        },
        {
          "output_type": "stream",
          "text": [
            " 368/4167 [=>............................] - ETA: 46:33 - loss: 0.5278 - accuracy: 0.6843"
          ],
          "name": "stdout"
        }
      ]
    },
    {
      "cell_type": "markdown",
      "metadata": {
        "id": "TTrwHMNin6pe"
      },
      "source": [
        "Evaluation on test set. \n",
        "\n",
        "In this notebook we did not use a validation dataset"
      ]
    },
    {
      "cell_type": "code",
      "metadata": {
        "colab": {
          "base_uri": "https://localhost:8080/"
        },
        "id": "F4OgtruF7sft",
        "outputId": "be2aeee0-e46f-4146-fec3-ef2d2a7d2bce"
      },
      "source": [
        "results = model.evaluate(ds_test_encoded)\n",
        "\n",
        "for name, value in zip(model.metrics_names, results):\n",
        "  print(\"%s: %.3f\" % (name, value))"
      ],
      "execution_count": null,
      "outputs": [
        {
          "output_type": "execute_result",
          "data": {
            "text/plain": [
              "<tf.Tensor: shape=(1, 512), dtype=float32, numpy=\n",
              "array([[ 4.07019332e-02,  4.20416659e-03, -1.57005433e-02,\n",
              "         6.62304163e-02,  6.02403209e-02,  3.45811155e-03,\n",
              "        -2.04513082e-03, -2.97447331e-02, -6.15066513e-02,\n",
              "         2.12823488e-02,  7.32063651e-02, -8.14526808e-03,\n",
              "        -1.70178637e-02, -8.08189064e-03,  5.51662855e-02,\n",
              "        -7.66986012e-02, -4.87217796e-04,  7.28695793e-03,\n",
              "         6.83696344e-02,  2.48371419e-02,  4.35508117e-02,\n",
              "        -7.72064552e-02, -3.36251147e-02,  1.93062741e-02,\n",
              "         2.46499237e-02, -3.36417183e-02, -1.41864568e-02,\n",
              "        -3.50950211e-02, -3.00125200e-02,  7.72058889e-02,\n",
              "         1.49349049e-02, -2.77748164e-02, -9.91387386e-03,\n",
              "        -2.47066189e-02, -2.05309559e-02, -6.30811304e-02,\n",
              "        -4.79705544e-04, -3.30221727e-02,  6.40549585e-02,\n",
              "         1.19337030e-02,  4.31785248e-02, -2.02946328e-02,\n",
              "        -7.70021975e-02, -4.57157865e-02,  4.37542647e-02,\n",
              "        -1.19882422e-02,  3.37470435e-02,  3.07148155e-02,\n",
              "         5.58409616e-02,  6.69020042e-02,  6.46265000e-02,\n",
              "        -1.94307864e-02,  3.82719710e-02, -5.32730250e-03,\n",
              "        -4.01344057e-03, -5.90718314e-02, -1.14776241e-02,\n",
              "         7.41475523e-02, -1.05692977e-02, -5.88485748e-02,\n",
              "         7.61928335e-02, -1.95360184e-02, -7.70098567e-02,\n",
              "         1.12271840e-02, -6.25007078e-02,  3.95316817e-02,\n",
              "         4.27249260e-02,  3.49654332e-02,  5.57201952e-02,\n",
              "        -3.92933153e-02,  4.74190377e-02,  7.29424059e-02,\n",
              "         1.80066172e-02, -3.43155563e-02,  2.46101357e-02,\n",
              "        -4.40069772e-02, -3.73824835e-02,  6.33166656e-02,\n",
              "        -4.61132126e-03,  4.95945513e-02, -4.53622602e-02,\n",
              "        -3.96849550e-02, -5.91589138e-03,  9.27693583e-03,\n",
              "         5.38029475e-03, -8.81606899e-03,  6.12993017e-02,\n",
              "        -5.24228141e-02, -7.64771625e-02, -5.32947108e-03,\n",
              "         3.24760340e-02, -5.93074709e-02, -2.11983174e-02,\n",
              "         3.99143472e-02,  7.72050917e-02, -4.42048945e-02,\n",
              "        -5.19505590e-02,  4.24112305e-02,  7.72063211e-02,\n",
              "         7.17687309e-02,  2.30688825e-02, -3.06559857e-02,\n",
              "        -3.79459672e-02, -7.02435821e-02, -1.24998940e-02,\n",
              "         2.93749832e-02, -6.69398084e-02, -3.64240855e-02,\n",
              "        -1.40149863e-02,  6.01967312e-02, -5.26595302e-02,\n",
              "        -7.50412345e-02,  6.14168569e-02,  4.47804332e-02,\n",
              "         2.54713017e-02,  8.87994375e-03, -4.64523919e-02,\n",
              "        -2.57913750e-02, -6.32443726e-02, -2.20371932e-02,\n",
              "        -4.14732620e-02,  1.69021990e-02, -2.47596763e-02,\n",
              "        -2.68943328e-02,  1.73822138e-02, -3.16849686e-02,\n",
              "         6.37543872e-02, -7.72067681e-02,  7.13349208e-02,\n",
              "         7.63217434e-02,  3.58810239e-02, -4.77188528e-02,\n",
              "         2.86482349e-02, -4.84354571e-02, -8.28297623e-03,\n",
              "        -6.16455376e-02,  5.73763400e-02, -6.79658866e-03,\n",
              "        -7.44254589e-02,  2.48465743e-02,  6.74225762e-02,\n",
              "         7.68691227e-02, -3.32998484e-02,  7.31504709e-02,\n",
              "        -2.43266691e-02, -2.01578718e-02,  2.51740087e-02,\n",
              "        -3.72225009e-02,  5.50065599e-02,  4.75192768e-03,\n",
              "        -1.38361901e-02, -5.84186837e-02, -7.05728903e-02,\n",
              "        -2.94190310e-02,  5.32039367e-02,  7.26365224e-02,\n",
              "         3.56368311e-02,  3.30073535e-02,  5.99240027e-02,\n",
              "         2.78780293e-02,  2.26551294e-02,  4.96477857e-02,\n",
              "         5.07693663e-02,  5.10366894e-02,  2.81329434e-02,\n",
              "        -2.35077292e-02, -6.62925690e-02, -5.66796549e-02,\n",
              "         6.65559852e-03,  5.25051653e-02,  5.24272956e-02,\n",
              "        -7.27975518e-02, -7.68278074e-03, -2.47219093e-02,\n",
              "        -5.23251519e-02,  4.18681512e-03,  2.18294412e-02,\n",
              "        -3.21361586e-03, -3.85600096e-03, -7.56135359e-02,\n",
              "         4.57194299e-02,  7.64940083e-02, -3.74941751e-02,\n",
              "        -3.67115289e-02, -2.11209594e-03,  5.92078068e-05,\n",
              "        -2.96182409e-02,  1.02627818e-02,  6.78282157e-02,\n",
              "         1.59883220e-02,  4.25860751e-03,  3.15265022e-02,\n",
              "        -1.48938028e-02, -7.67781362e-02, -4.31267470e-02,\n",
              "        -3.16303000e-02,  5.14800586e-02,  1.91743057e-02,\n",
              "         6.59142062e-02,  4.22388911e-02, -2.29139477e-02,\n",
              "         4.89195064e-02,  2.18710229e-02, -3.05218957e-02,\n",
              "         4.64368090e-02, -1.52693233e-02, -5.08497804e-02,\n",
              "        -6.44159764e-02, -6.20483309e-02,  7.22170807e-04,\n",
              "        -7.12141320e-02,  2.15993263e-02, -3.11199185e-02,\n",
              "         5.29072732e-02, -3.57669033e-02, -2.73784599e-03,\n",
              "        -7.21972156e-03,  2.55685840e-02,  6.19762670e-03,\n",
              "        -2.42897701e-02,  2.17372403e-02, -3.52437459e-02,\n",
              "        -2.30554175e-02,  3.86384167e-02, -7.71788508e-02,\n",
              "        -6.74578249e-02, -6.19215705e-02,  3.87033895e-02,\n",
              "         5.99178076e-02, -4.57252935e-02, -2.54652668e-02,\n",
              "        -3.15670706e-02,  2.45779380e-02, -7.72045627e-02,\n",
              "         1.51996696e-02, -3.00151743e-02,  3.87077294e-02,\n",
              "        -5.85413836e-02,  1.32421218e-02,  5.87324537e-02,\n",
              "         6.53400719e-02,  3.29593793e-02,  3.36748511e-02,\n",
              "        -3.72860245e-02,  7.04639331e-02,  6.63540289e-02,\n",
              "         1.51986107e-02, -1.46870492e-02, -5.30392118e-02,\n",
              "         1.03584286e-02,  6.63254037e-02, -6.35099262e-02,\n",
              "         4.23476063e-02, -4.53899354e-02,  6.10808283e-02,\n",
              "         3.95193957e-02, -4.49668504e-02,  7.72065967e-02,\n",
              "         2.45348942e-02, -3.40233594e-02, -1.27187837e-02,\n",
              "         1.88034680e-02,  6.73785582e-02,  1.83153190e-02,\n",
              "        -2.12725196e-02,  3.38614509e-02, -3.90508249e-02,\n",
              "         2.04101764e-02, -2.41596345e-03, -4.86688595e-03,\n",
              "        -2.97575779e-02,  7.56974295e-02, -5.92422625e-03,\n",
              "         9.45745688e-03, -2.95265149e-02,  1.96414739e-02,\n",
              "        -2.04382576e-02, -6.21235631e-02,  7.72000253e-02,\n",
              "         7.45250881e-02,  5.16642677e-03,  6.68300781e-03,\n",
              "        -1.41004678e-02,  8.60723667e-03,  1.32905422e-02,\n",
              "        -7.72067681e-02,  1.84436534e-02, -5.20203821e-03,\n",
              "        -2.49544438e-02,  3.99151109e-02, -2.42152382e-02,\n",
              "         7.64523968e-02,  6.76214099e-02, -4.93054604e-03,\n",
              "         4.83205542e-02,  3.38041075e-02,  3.23540978e-02,\n",
              "         2.66002398e-02,  6.89606462e-03,  7.61323273e-02,\n",
              "         5.87510923e-03, -6.24887273e-02,  2.60749198e-02,\n",
              "         6.75062789e-03,  4.46675047e-02, -6.78449273e-02,\n",
              "         3.83808799e-02, -2.95951292e-02,  2.27597952e-02,\n",
              "         2.60666981e-02,  5.26748225e-02, -4.88169342e-02,\n",
              "         5.98178282e-02,  4.87330481e-02,  9.35378484e-03,\n",
              "         5.12080379e-02, -2.90873810e-03,  7.72702880e-03,\n",
              "         7.66426772e-02,  5.39781153e-02,  5.38757211e-03,\n",
              "         4.46016267e-02, -5.62777603e-03, -6.36485294e-02,\n",
              "         2.99736355e-02,  4.05612662e-02, -5.08959517e-02,\n",
              "        -1.03852144e-02,  1.86014622e-02, -2.47860514e-03,\n",
              "        -4.23813537e-02,  4.71043680e-03,  4.99074720e-02,\n",
              "        -4.83856304e-03, -7.63097405e-02, -5.60934730e-02,\n",
              "        -4.72745858e-03, -7.98189640e-03, -6.32589683e-03,\n",
              "        -5.80543168e-02,  7.71757960e-02,  5.91988973e-02,\n",
              "         5.92643805e-02, -1.29639190e-02,  8.17047525e-03,\n",
              "        -1.24590676e-02,  5.65935336e-02, -7.71568567e-02,\n",
              "        -3.46788056e-02,  6.53548241e-02, -1.12748463e-02,\n",
              "         1.24924332e-02, -4.95095961e-02, -5.49822673e-02,\n",
              "         3.51126539e-03, -7.03695193e-02, -7.70974159e-02,\n",
              "        -1.58003066e-02,  2.64314399e-03,  3.48247774e-02,\n",
              "        -4.17856015e-02, -6.71864972e-02,  7.68795237e-02,\n",
              "         6.56716377e-02,  6.75815046e-02, -4.77698445e-02,\n",
              "         6.40540197e-02,  3.70916389e-02,  5.59819266e-02,\n",
              "        -7.29002571e-03,  2.16078237e-02,  5.77424876e-02,\n",
              "        -5.59645481e-02,  5.35027049e-02, -4.10821997e-02,\n",
              "         2.59489976e-02,  1.99630391e-02,  1.49660166e-02,\n",
              "        -3.06399167e-02, -7.60747716e-02, -1.80934928e-02,\n",
              "        -4.96997796e-02,  1.78529229e-02,  1.28581738e-02,\n",
              "         6.75456971e-02, -7.56336227e-02, -1.07261110e-02,\n",
              "         7.22959498e-03, -2.20135618e-02,  2.25084033e-02,\n",
              "         6.66169748e-02, -5.70803471e-02,  5.90243265e-02,\n",
              "        -1.78587940e-02, -1.21397898e-02,  2.15271432e-02,\n",
              "         1.16389310e-02, -6.42336383e-02,  1.25319436e-02,\n",
              "        -7.71703795e-02,  4.26705144e-02, -3.44491750e-02,\n",
              "         9.35722422e-03, -6.08962774e-02,  7.72067681e-02,\n",
              "         2.14404501e-02,  7.72067383e-02, -4.23279405e-02,\n",
              "        -1.55849680e-02, -6.13639317e-02,  4.39304896e-02,\n",
              "         3.07838414e-02,  2.37371530e-02, -3.53531800e-02,\n",
              "         7.59241208e-02, -4.67113815e-02, -1.44098643e-02,\n",
              "        -5.60663734e-03, -3.05218110e-03, -6.44288510e-02,\n",
              "         4.31829095e-02,  6.46374188e-03, -3.72468606e-02,\n",
              "         2.28694696e-02, -4.22175899e-02,  7.00204596e-02,\n",
              "         4.62012105e-02,  6.88707680e-02,  1.80008672e-02,\n",
              "         7.71475732e-02,  1.57191418e-02,  1.43573480e-02,\n",
              "        -4.23672348e-02,  5.96132204e-02, -2.01909598e-02,\n",
              "        -2.49831844e-02, -1.33938678e-02, -1.09010711e-02,\n",
              "         5.82874194e-03,  2.01215353e-02,  4.67458442e-02,\n",
              "        -5.71526028e-02,  3.96175124e-02, -4.22891788e-02,\n",
              "         3.98170911e-02, -2.02514995e-02,  2.52448041e-02,\n",
              "        -5.93002066e-02,  2.40929406e-02,  4.43504006e-02,\n",
              "        -7.29650930e-02, -2.24627331e-02,  4.58900491e-03,\n",
              "         6.31361529e-02, -4.89584468e-02,  1.77723709e-02,\n",
              "         2.81059146e-02,  5.07283509e-02, -7.64490142e-02,\n",
              "         1.36685595e-02,  6.62743347e-03,  7.52384812e-02,\n",
              "         3.79617848e-02,  7.15158433e-02, -6.92142639e-03,\n",
              "         5.46231754e-02, -6.13505244e-02,  3.29370284e-03,\n",
              "        -5.33893146e-02,  2.58024372e-02,  1.19927374e-03,\n",
              "        -5.11109887e-04,  1.73460376e-02, -1.57068521e-02,\n",
              "        -3.73781100e-02, -2.67771203e-02,  2.88440511e-02,\n",
              "        -5.83744459e-02,  7.66438618e-02,  3.03761754e-02,\n",
              "        -3.90760079e-02,  2.65216199e-03, -4.07227278e-02,\n",
              "        -7.68246576e-02,  3.40560079e-02, -3.00563797e-02,\n",
              "         3.90330032e-02,  7.72028863e-02, -9.38091800e-03,\n",
              "         5.04690483e-02,  1.06821228e-02, -1.76539142e-02,\n",
              "        -2.94193197e-02,  8.01432412e-03,  3.08280718e-02,\n",
              "         1.85099861e-03,  3.06176823e-02, -4.60983552e-02,\n",
              "         3.82460700e-03, -2.45982669e-02, -5.11105806e-02,\n",
              "        -7.70906508e-02, -2.89997812e-02, -7.58588016e-02,\n",
              "         1.29536288e-02, -2.83455085e-02,  4.73728366e-02,\n",
              "         7.67484829e-02,  4.44230996e-02, -2.73392275e-02,\n",
              "         7.72067681e-02, -2.80134138e-02]], dtype=float32)>"
            ]
          },
          "metadata": {
            "tags": []
          },
          "execution_count": 7
        }
      ]
    }
  ]
}