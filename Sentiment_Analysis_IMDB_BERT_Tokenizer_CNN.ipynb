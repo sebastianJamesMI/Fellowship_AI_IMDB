{
  "nbformat": 4,
  "nbformat_minor": 0,
  "metadata": {
    "colab": {
      "name": "Sentiment_Analysis_IMDB_BERT_Tokenizer_CNN.ipynb",
      "provenance": [],
      "collapsed_sections": [],
      "mount_file_id": "1D7mzHtRMVg9VoYkFs26nQqH-ikmLnw9F",
      "authorship_tag": "ABX9TyP5hU402q7m1QYLgXnc3IXX",
      "include_colab_link": true
    },
    "kernelspec": {
      "name": "python3",
      "display_name": "Python 3"
    },
    "language_info": {
      "name": "python"
    },
    "accelerator": "GPU"
  },
  "cells": [
    {
      "cell_type": "markdown",
      "metadata": {
        "id": "view-in-github",
        "colab_type": "text"
      },
      "source": [
        "<a href=\"https://colab.research.google.com/github/sebastianJamesMI/Fellowship_AI_IMDB/blob/main/Sentiment_Analysis_IMDB_BERT_Tokenizer_CNN.ipynb\" target=\"_parent\"><img src=\"https://colab.research.google.com/assets/colab-badge.svg\" alt=\"Open In Colab\"/></a>"
      ]
    },
    {
      "cell_type": "markdown",
      "metadata": {
        "id": "GarTRYs62E_S"
      },
      "source": [
        "This project uses the IMDB dataset compiled by Andrew Maas (see http://a\n",
        "i.stanford.edu/~amaas/data/sentiment/).\n",
        "\n",
        "- The objective is to classify movie reviews as positive or negative. The original reviews were rated on a scale from 1 to 10. For Binary Classification, anything with <= 4 was classfed as negative and anything with >= 7 stars were classified as positive. \n",
        "\n",
        "\n",
        "############################################################################\n",
        "\n",
        "I use different strategies to perform this classification task starting with a simple RNN model (LSTM) then using more complex models. \n",
        "\n",
        "############################################################################\n",
        "\n",
        "\n",
        "\n",
        "\n",
        "This notebook uses a CNN model and the BERT tokenizer, but does not use the BERT pre-trained weights. It trains the weights from scratch. This notebook references the following sources:\n",
        "\n",
        "1. NLP course on Udemy by Martin Jocqueviel: https://www.udemy.com/course/modern-nlp/\n",
        "\n",
        "2. Data reading and downloading, Aaron Kub: \n",
        "https://towardsdatascience.com/sentiment-analysis-with-python-part-1-5ce197074184\n",
        "\n",
        "3. Data Reading and Downloading: Georgios Drakos: https://gdcoder.com/sentiment-clas/\n",
        "\n",
        "4. Word Tokenization: Coursera Deep learning NLP courses by Andrew Ng\n"
      ]
    },
    {
      "cell_type": "markdown",
      "metadata": {
        "id": "3vjjdldlw-7k"
      },
      "source": [
        "Download the data from http://ai.stanford.edu/~amaas/data/sentiment/\n",
        "\n",
        "In another notebook I downloaded the data and saved them as train.csv and test.csv files"
      ]
    },
    {
      "cell_type": "markdown",
      "metadata": {
        "id": "pEkyTJzr2B0U"
      },
      "source": [
        ""
      ]
    },
    {
      "cell_type": "code",
      "metadata": {
        "colab": {
          "base_uri": "https://localhost:8080/"
        },
        "id": "OeSdn08kU_DK",
        "outputId": "8cc45552-2049-45db-d5dd-389334865dec"
      },
      "source": [
        "!pip install bert-for-tf2   ## not the official BERT source\n",
        "!pip install sentencepiece"
      ],
      "execution_count": null,
      "outputs": [
        {
          "output_type": "stream",
          "text": [
            "Requirement already satisfied: bert-for-tf2 in /usr/local/lib/python3.7/dist-packages (0.14.9)\n",
            "Requirement already satisfied: params-flow>=0.8.0 in /usr/local/lib/python3.7/dist-packages (from bert-for-tf2) (0.8.2)\n",
            "Requirement already satisfied: py-params>=0.9.6 in /usr/local/lib/python3.7/dist-packages (from bert-for-tf2) (0.10.2)\n",
            "Requirement already satisfied: numpy in /usr/local/lib/python3.7/dist-packages (from params-flow>=0.8.0->bert-for-tf2) (1.19.5)\n",
            "Requirement already satisfied: tqdm in /usr/local/lib/python3.7/dist-packages (from params-flow>=0.8.0->bert-for-tf2) (4.41.1)\n",
            "Requirement already satisfied: sentencepiece in /usr/local/lib/python3.7/dist-packages (0.1.95)\n"
          ],
          "name": "stdout"
        }
      ]
    },
    {
      "cell_type": "code",
      "metadata": {
        "id": "LkVPyAfrzMVw"
      },
      "source": [
        "## Import Dependencies\n",
        "import numpy as np\n",
        "import pandas as pd\n",
        "from glob import glob\n",
        "import random\n",
        "import os\n",
        "import re\n",
        "import string\n",
        "import math\n",
        "\n",
        "import tensorflow as tf\n",
        "from tensorflow.keras.preprocessing.text import Tokenizer\n",
        "from tensorflow.keras.preprocessing.sequence import pad_sequences\n",
        "from tensorflow.keras.callbacks import ReduceLROnPlateau, EarlyStopping, ModelCheckpoint\n",
        "from tensorflow.keras.models import Sequential, Model, load_model\n",
        "from tensorflow.keras.layers import Dense, LSTM, Dropout, Embedding, Bidirectional, Conv1D, GlobalMaxPooling1D\n",
        "\n",
        "from sklearn.metrics import accuracy_score\n",
        "from sklearn.model_selection import train_test_split\n",
        "\n",
        "import matplotlib.pyplot as plt\n",
        "%matplotlib inline"
      ],
      "execution_count": null,
      "outputs": []
    },
    {
      "cell_type": "code",
      "metadata": {
        "id": "sI2S6tiRUnBm"
      },
      "source": [
        "import tensorflow_hub as hub #site where pre-trained models are uploaded. will be needed when we need to download BERT weights\n",
        "import bert"
      ],
      "execution_count": null,
      "outputs": []
    },
    {
      "cell_type": "code",
      "metadata": {
        "id": "SWsfNMaf9vaE"
      },
      "source": [
        "## Read in train and test files, we can use these filesn for future notebooks\n",
        "train_df = pd.read_csv('/content/drive/MyDrive/Projects/FellowshipAI/train.csv')\n",
        "test_df = pd.read_csv('/content/drive/MyDrive/Projects/FellowshipAI/test.csv')"
      ],
      "execution_count": null,
      "outputs": []
    },
    {
      "cell_type": "code",
      "metadata": {
        "colab": {
          "base_uri": "https://localhost:8080/"
        },
        "id": "6qqBVS1k97Zw",
        "outputId": "3777fb9a-2f29-4f8d-8b4d-d62f1f4df70b"
      },
      "source": [
        "print(train_df.shape)\n",
        "print(test_df.shape)"
      ],
      "execution_count": null,
      "outputs": [
        {
          "output_type": "stream",
          "text": [
            "(25000, 2)\n",
            "(25000, 2)\n"
          ],
          "name": "stdout"
        }
      ]
    },
    {
      "cell_type": "code",
      "metadata": {
        "colab": {
          "base_uri": "https://localhost:8080/"
        },
        "id": "F4OgtruF7sft",
        "outputId": "36f38e5a-77cb-42af-a08f-d9ad83ccb682"
      },
      "source": [
        "## An example of training data\n",
        "print('The review text is: {}'.format(train_df['text'][0]))\n",
        "print('\\n')\n",
        "print(f\"The label is: {train_df['label'][0]}\")"
      ],
      "execution_count": null,
      "outputs": [
        {
          "output_type": "stream",
          "text": [
            "The review text is: BRIEF ENCOUNTER is a ghastly and pointless remake of the 1945 David Lean classic, which was based on Noel Coward's play \"Still Life\". A doctor removes a particle of grit from a woman's eye at a railway station, he is in a miserable relationship, she is happily married social worker of Italian ancestry. They meet by accident on another occasion, form an instant attraction and arrange to meet each other every Wednesday. The pair fall in love, but after spending a few afternoons together they realise that they have no realistic chance of happiness and agree to part. Coward's original one-act play concerned two ordinary people who fall in love. Sophia Loren and Richard Burton, two Super Stars and veterans of Hollywood Epics, are nobody's idea of 'ordinary people'. Loren in particular is miscast - Sophia Loren in full make-up, looking like a million dollars, working as a part-time voluntary social worker at a Citizen Advice Bureau just doesn't ring true. Burton, looking haggard, with dyed hair, too much make-up and wearing platform shoes, doesn't come across as your average General Practitioner. That said, you can't really blame them for having an affair after seeing their spouses. Burton is married to a literary critic who spends her evenings penning poisonous reviews and who treats her husband with total contempt. Loren's husband, Jack Hedley, potters around the house all day and is terminally boring: the most exciting thing he has ever done is nearly have an affair six years previous. Their final scene together will induce nausea, (\"You've been a long, long way away\", etc.). That great British jobbing actor, John LeMesurier, has a three minute cameo as Burton's friend, and appears to be slightly inebriated, speaking his lines in a barely audible voice. It's a sad and forgettable performance in a dismal, awful rehash of a cinema classic. Avoid at all costs.\n",
            "\n",
            "\n",
            "The label is: 0\n"
          ],
          "name": "stdout"
        }
      ]
    },
    {
      "cell_type": "code",
      "metadata": {
        "id": "_wshsSoQWoIC"
      },
      "source": [
        "##Preprocessing. Google tokenizer does this standard text preprocessing. Else we could use the following function\n",
        "def clean_text(text):\n",
        "    text = re.sub(r\"@[A-Za-z0-9]+\", ' ', text) ## this is useful for tweets\n",
        "    text = re.sub(r\"https?://[A-Za-z0-9./]+\", ' ', text) ## replace urls\n",
        "    text = re.sub(r\"[^a-zA-Z.!?']\", ' ', text) \n",
        "    text = re.sub(r\" +\", ' ',text) ## replacing too many white space with single white space\n",
        "    return text\n",
        "\n",
        "#train['text'].apply(clean_text)"
      ],
      "execution_count": null,
      "outputs": []
    },
    {
      "cell_type": "code",
      "metadata": {
        "id": "Zofa-wK3F3Hg"
      },
      "source": [
        "## Text data needs to be converted to numerical data using tokenizing\n",
        "FullTokenizer = bert.bert_tokenization.FullTokenizer\n",
        "bert_layer = hub.KerasLayer(\"https://tfhub.dev/tensorflow/bert_en_uncased_L-12_H-768_A-12/1\", trainable = False)  ## BERT layer, we are not training the weights\n",
        "vocab_file = bert_layer.resolved_object.vocab_file.asset_path.numpy()  ## access to the vocab file as numpy\n",
        "do_lower_case = bert_layer.resolved_object.do_lower_case.numpy()\n",
        "tokenizer = FullTokenizer(vocab_file, do_lower_case= do_lower_case)"
      ],
      "execution_count": null,
      "outputs": []
    },
    {
      "cell_type": "code",
      "metadata": {
        "colab": {
          "base_uri": "https://localhost:8080/"
        },
        "id": "cGtcwEmJaDwZ",
        "outputId": "9472c2a2-cb86-4b24-e808-3f39a8d1ada0"
      },
      "source": [
        "word_list = tokenizer.tokenize(\"I am training to be a data scientist\")\n",
        "word_list"
      ],
      "execution_count": null,
      "outputs": [
        {
          "output_type": "execute_result",
          "data": {
            "text/plain": [
              "['i', 'am', 'training', 'to', 'be', 'a', 'data', 'scientist']"
            ]
          },
          "metadata": {
            "tags": []
          },
          "execution_count": 12
        }
      ]
    },
    {
      "cell_type": "code",
      "metadata": {
        "colab": {
          "base_uri": "https://localhost:8080/"
        },
        "id": "FxtU28MfaQBs",
        "outputId": "99a06186-d6d0-4078-ad8e-8457ee11cd06"
      },
      "source": [
        "tokens = tokenizer.convert_tokens_to_ids(word_list)\n",
        "tokens"
      ],
      "execution_count": null,
      "outputs": [
        {
          "output_type": "execute_result",
          "data": {
            "text/plain": [
              "[1045, 2572, 2731, 2000, 2022, 1037, 2951, 7155]"
            ]
          },
          "metadata": {
            "tags": []
          },
          "execution_count": 13
        }
      ]
    },
    {
      "cell_type": "code",
      "metadata": {
        "id": "5w-DHaWOaoiQ"
      },
      "source": [
        "def encode_sentence(sentence):\n",
        "    word_list = tokenizer.tokenize(sentence)\n",
        "    tokens = tokenizer.convert_tokens_to_ids(word_list)\n",
        "    return tokens"
      ],
      "execution_count": null,
      "outputs": []
    },
    {
      "cell_type": "code",
      "metadata": {
        "id": "h6ayrmc4bF4K"
      },
      "source": [
        "data_inputs = train_df['text'].apply(encode_sentence)\n",
        "data_labels = train_df['label']"
      ],
      "execution_count": null,
      "outputs": []
    },
    {
      "cell_type": "code",
      "metadata": {
        "colab": {
          "base_uri": "https://localhost:8080/"
        },
        "id": "FXIbSRBWpxQI",
        "outputId": "036092f1-3854-441b-f397-ff47cb35256e"
      },
      "source": [
        "data_inputs.shape"
      ],
      "execution_count": null,
      "outputs": [
        {
          "output_type": "execute_result",
          "data": {
            "text/plain": [
              "(25000,)"
            ]
          },
          "metadata": {
            "tags": []
          },
          "execution_count": 16
        }
      ]
    },
    {
      "cell_type": "code",
      "metadata": {
        "id": "bpyRABDRbXyS"
      },
      "source": [
        "## Creating Dataset\n",
        "## we only want each batch to have the same length."
      ],
      "execution_count": null,
      "outputs": []
    },
    {
      "cell_type": "markdown",
      "metadata": {
        "id": "54KsVic2qTpg"
      },
      "source": [
        "We create padded batches. For that:\n",
        "1. Sort by length\n",
        "2. Apply Padded batches"
      ]
    },
    {
      "cell_type": "code",
      "metadata": {
        "id": "SauuPp4_qlyY"
      },
      "source": [
        "data_with_len = [[sent, data_labels[i], len(sent)]\n",
        "                 for i, sent in enumerate(data_inputs)]\n",
        "\n",
        "random.shuffle(data_with_len)\n",
        "data_with_len.sort(key = lambda x: x[2])\n",
        "sorted_all = [(sent[0], sent[1])\n",
        "               for sent in data_with_len if sent[2] > 7]"
      ],
      "execution_count": null,
      "outputs": []
    },
    {
      "cell_type": "code",
      "metadata": {
        "id": "eZHzHxPisYTs"
      },
      "source": [
        "## we need to call generator, for getting sentences of differnt lengths.\n",
        "all_dataset = tf.data.Dataset.from_generator(lambda: sorted_all, output_types=(tf.int32, tf.int32))"
      ],
      "execution_count": null,
      "outputs": []
    },
    {
      "cell_type": "code",
      "metadata": {
        "colab": {
          "base_uri": "https://localhost:8080/"
        },
        "id": "gfeh2GR-sxYT",
        "outputId": "ee7041b7-4b0c-4634-b81f-59f6e88ae471"
      },
      "source": [
        "next(iter(all_dataset))"
      ],
      "execution_count": null,
      "outputs": [
        {
          "output_type": "execute_result",
          "data": {
            "text/plain": [
              "(<tf.Tensor: shape=(11,), dtype=int32, numpy=\n",
              " array([2023, 3185, 2003, 6659, 2021, 2009, 2038, 2070, 2204, 3896, 1012],\n",
              "       dtype=int32)>, <tf.Tensor: shape=(), dtype=int32, numpy=0>)"
            ]
          },
          "metadata": {
            "tags": []
          },
          "execution_count": 20
        }
      ]
    },
    {
      "cell_type": "code",
      "metadata": {
        "id": "boQicJGy25Xn"
      },
      "source": [
        "BATCH_SIZE = 32\n",
        "all_batched = all_dataset.padded_batch(BATCH_SIZE, padded_shapes=((None, ), ()))"
      ],
      "execution_count": null,
      "outputs": []
    },
    {
      "cell_type": "code",
      "metadata": {
        "colab": {
          "base_uri": "https://localhost:8080/"
        },
        "id": "zs6qJ1DntTw3",
        "outputId": "198f5056-f710-4bfb-b5fc-cdbf8efec88a"
      },
      "source": [
        "next(iter(all_batched))"
      ],
      "execution_count": null,
      "outputs": [
        {
          "output_type": "execute_result",
          "data": {
            "text/plain": [
              "(<tf.Tensor: shape=(32, 36), dtype=int32, numpy=\n",
              " array([[ 2023,  3185,  2003, ...,     0,     0,     0],\n",
              "        [ 1045,  2876,  1005, ...,     0,     0,     0],\n",
              "        [ 7918, 14674,  7662, ...,     0,     0,     0],\n",
              "        ...,\n",
              "        [ 2302,  3160,  1010, ...,  1012,     0,     0],\n",
              "        [ 2172,  2104,  9250, ...,  2802,  1012,     0],\n",
              "        [ 6581,  2792,  3185, ...,  2184,  1013,  2184]], dtype=int32)>,\n",
              " <tf.Tensor: shape=(32,), dtype=int32, numpy=\n",
              " array([0, 0, 1, 0, 0, 1, 1, 0, 0, 0, 1, 1, 0, 0, 0, 0, 0, 1, 1, 0, 1, 1,\n",
              "        1, 1, 1, 0, 0, 1, 1, 0, 1, 1], dtype=int32)>)"
            ]
          },
          "metadata": {
            "tags": []
          },
          "execution_count": 22
        }
      ]
    },
    {
      "cell_type": "code",
      "metadata": {
        "id": "JHeCBQz9tmSW"
      },
      "source": [
        "NB_BATCHES = math.ceil(len(sorted_all)/BATCH_SIZE)\n",
        "NB_BATCHES_TEST = NB_BATCHES//10"
      ],
      "execution_count": null,
      "outputs": []
    },
    {
      "cell_type": "code",
      "metadata": {
        "id": "QelRYWqzt47v"
      },
      "source": [
        "##shuffle because the datasets are ordered by length\n",
        "all_batched.shuffle(NB_BATCHES)\n",
        "val_dataset = all_batched.take(NB_BATCHES_TEST)\n",
        "train_dataset = all_batched.skip(NB_BATCHES_TEST)"
      ],
      "execution_count": null,
      "outputs": []
    },
    {
      "cell_type": "code",
      "metadata": {
        "id": "QMGY8a44DmEa"
      },
      "source": [
        "# Data preprocessing is over\n",
        "class DCNN(tf.keras.Model):\n",
        "\n",
        "    def __init__(self, \n",
        "                 vocab_size,\n",
        "                 emb_dim = 128,\n",
        "                 nb_filters = 50,\n",
        "                 FFN_units = 512,\n",
        "                 nb_classes = 2,\n",
        "                 dropout_rate = 0.3,\n",
        "                 training = False,\n",
        "                 name = 'dcnn'):\n",
        "        super(DCNN, self).__init__(name = name)\n",
        "\n",
        "        self.embedding = Embedding(vocab_size, \n",
        "                                   emb_dim)\n",
        "        self.bigram = Conv1D(filters = nb_filters, \n",
        "                             kernel_size = 2, \n",
        "                             padding = 'valid',\n",
        "                             activation = 'relu')\n",
        "        self.trigram = Conv1D(filters = nb_filters, \n",
        "                             kernel_size = 3, \n",
        "                             padding = 'valid',\n",
        "                             activation = 'relu')\n",
        "        self.fourgram = Conv1D(filters = nb_filters, \n",
        "                             kernel_size = 4, \n",
        "                             padding = 'valid',\n",
        "                             activation = 'relu')\n",
        "        \n",
        "        self.pool = GlobalMaxPooling1D()\n",
        "\n",
        "        self.dense1 = Dense(units = FFN_units, activation = 'relu')\n",
        "        self.dropout = Dropout(rate = dropout_rate)\n",
        "        self.dense2 = Dense(1, activation = 'sigmoid')\n",
        "\n",
        "\n",
        "    def call(self, inputs, training):\n",
        "        x = self.embedding(inputs)\n",
        "        \n",
        "        x_1 = self.bigram(x)\n",
        "        x_1 = self.pool(x_1)\n",
        "\n",
        "        x_2 = self.trigram(x)\n",
        "        x_2 = self.pool(x_2)\n",
        "\n",
        "        x_3 = self.trigram(x)\n",
        "        x_3 = self.pool(x_3)\n",
        "\n",
        "        merged = tf.concat([x_1, x_2, x_3], axis = -1)  \n",
        "        merged = self.dense1(merged)\n",
        "        merged = self.dropout(merged, training)\n",
        "\n",
        "        output = self.dense2(merged)\n",
        "        return output\n",
        "\n"
      ],
      "execution_count": null,
      "outputs": []
    },
    {
      "cell_type": "code",
      "metadata": {
        "id": "7_l-X6uYSn4p"
      },
      "source": [
        "# Training\n",
        "VOCAB_SIZE = len(tokenizer.vocab)\n",
        "EMB_DIM = 200\n",
        "NB_FILTERS = 100\n",
        "FFN_UNITS = 256\n",
        "NB_CLASSES = 2\n",
        "DROPOUT_RATE = 0.2\n",
        "NB_EPOCHS = 5"
      ],
      "execution_count": null,
      "outputs": []
    },
    {
      "cell_type": "code",
      "metadata": {
        "id": "gDVaBaqxyp41"
      },
      "source": [
        "Dcnn = DCNN(vocab_size=VOCAB_SIZE, \n",
        "            emb_dim=EMB_DIM, \n",
        "            nb_filters=NB_FILTERS, \n",
        "            FFN_units=FFN_UNITS, \n",
        "            nb_classes=NB_CLASSES, \n",
        "            dropout_rate = DROPOUT_RATE)"
      ],
      "execution_count": null,
      "outputs": []
    },
    {
      "cell_type": "code",
      "metadata": {
        "id": "fiHx_EfJzlt_"
      },
      "source": [
        "Dcnn.compile(loss = 'binary_crossentropy', \n",
        "             optimizer = 'adam',\n",
        "             metrics = ['accuracy'])"
      ],
      "execution_count": null,
      "outputs": []
    },
    {
      "cell_type": "code",
      "metadata": {
        "id": "Ym4pR8Cc0B27"
      },
      "source": [
        "#set callbacks: Early Stopping and Reduce Learning Rate\n",
        "def get_callbacks():\n",
        "    \"\"\"\n",
        "    This function should create and return a tuple (early_stopping, learning_rate_reduction) callbacks.\n",
        "    The callbacks should be instantiated according to the above requirements.\n",
        "    \"\"\"\n",
        "    early_stopping = EarlyStopping(patience = 5, mode = 'min')\n",
        "    learning_rate_reduction = ReduceLROnPlateau(factor=0.2, patience =3)\n",
        "    return (early_stopping,learning_rate_reduction)\n",
        "\n",
        "early_stopping, learning_rate_reduction = get_callbacks()\n",
        "checkpoint = ModelCheckpoint(f\"/content/drive/MyDrive/Projects/FellowshipAIweights.h5\", monitor='val_loss', verbose=1, save_best_only=True,mode='min')"
      ],
      "execution_count": null,
      "outputs": []
    },
    {
      "cell_type": "code",
      "metadata": {
        "colab": {
          "base_uri": "https://localhost:8080/"
        },
        "id": "1VkF_rnxHvbU",
        "outputId": "f61f35fe-ba05-4024-b994-ccb6de85d4b6"
      },
      "source": [
        "history = Dcnn.fit(train_dataset, \n",
        "                   epochs = NB_EPOCHS, \n",
        "                   validation_data = val_dataset,\n",
        "                   callbacks = [early_stopping,learning_rate_reduction, checkpoint])"
      ],
      "execution_count": null,
      "outputs": [
        {
          "output_type": "stream",
          "text": [
            "Epoch 1/5\n",
            "704/704 [==============================] - 111s 152ms/step - loss: 0.4490 - accuracy: 0.7650 - val_loss: 0.2606 - val_accuracy: 0.8982\n",
            "\n",
            "Epoch 00001: val_loss improved from inf to 0.26059, saving model to /content/drive/MyDrive/Projects/FellowshipAIweights.h5\n",
            "Epoch 2/5\n",
            "704/704 [==============================] - 56s 79ms/step - loss: 0.1777 - accuracy: 0.9300 - val_loss: 0.2727 - val_accuracy: 0.9014\n",
            "\n",
            "Epoch 00002: val_loss did not improve from 0.26059\n",
            "Epoch 3/5\n",
            "704/704 [==============================] - 56s 80ms/step - loss: 0.0721 - accuracy: 0.9751 - val_loss: 0.3272 - val_accuracy: 0.8986\n",
            "\n",
            "Epoch 00003: val_loss did not improve from 0.26059\n",
            "Epoch 4/5\n",
            "704/704 [==============================] - 56s 79ms/step - loss: 0.0433 - accuracy: 0.9843 - val_loss: 0.3885 - val_accuracy: 0.8970\n",
            "\n",
            "Epoch 00004: val_loss did not improve from 0.26059\n",
            "Epoch 5/5\n",
            "704/704 [==============================] - 57s 81ms/step - loss: 0.0075 - accuracy: 0.9980 - val_loss: 0.3985 - val_accuracy: 0.9022\n",
            "\n",
            "Epoch 00005: val_loss did not improve from 0.26059\n"
          ],
          "name": "stdout"
        }
      ]
    },
    {
      "cell_type": "code",
      "metadata": {
        "id": "XDeivKM8VQ78"
      },
      "source": [
        "def plot_loss(history): ## plot the loss curves\n",
        "    #Run this cell to plot the epoch vs accuracy graph\n",
        "\n",
        "    try:\n",
        "        plt.plot(history.history['accuracy'])\n",
        "        plt.plot(history.history['val_accuracy'])\n",
        "    except KeyError:\n",
        "        plt.plot(history.history['acc'])\n",
        "        plt.plot(history.history['val_acc'])\n",
        "    plt.title('Accuracy vs. epochs')\n",
        "    plt.ylabel('Accuracy')\n",
        "    plt.xlabel('Epoch')\n",
        "    plt.legend(['Training', 'Validation'], loc='lower right')\n",
        "    plt.show() \n",
        "\n",
        "    #Run this cell to plot the epoch vs loss graph\n",
        "    plt.plot(history.history['loss'])\n",
        "    plt.plot(history.history['val_loss'])\n",
        "    plt.title('Loss vs. epochs')\n",
        "    plt.ylabel('Loss')\n",
        "    plt.xlabel('Epoch')\n",
        "    plt.legend(['Training', 'Validation'], loc='upper right')\n",
        "    plt.show() \n",
        "    return None"
      ],
      "execution_count": null,
      "outputs": []
    },
    {
      "cell_type": "code",
      "metadata": {
        "colab": {
          "base_uri": "https://localhost:8080/",
          "height": 573
        },
        "id": "HOJm6g9N1fKz",
        "outputId": "e6c7fa1e-925d-41af-d254-630f7fe0ef08"
      },
      "source": [
        "plot_loss(history)"
      ],
      "execution_count": null,
      "outputs": [
        {
          "output_type": "display_data",
          "data": {
            "image/png": "[encoded data removed]",
            "text/plain": [
              "<Figure size 432x288 with 1 Axes>"
            ]
          },
          "metadata": {
            "tags": [],
            "needs_background": "light"
          }
        },
        {
          "output_type": "display_data",
          "data": {
            "image/png": "[encoded data removed]",
            "text/plain": [
              "<Figure size 432x288 with 1 Axes>"
            ]
          },
          "metadata": {
            "tags": [],
            "needs_background": "light"
          }
        }
      ]
    },
    {
      "cell_type": "markdown",
      "metadata": {
        "id": "vVQFUDUN4sqR"
      },
      "source": [
        "Evaluation"
      ]
    },
    {
      "cell_type": "code",
      "metadata": {
        "id": "dOqOdZZ-40gP"
      },
      "source": [
        "##preparing the test dataset\n",
        "test_data_inputs = test_df['text'].apply(encode_sentence)\n",
        "test_data_labels = test_df['label']\n",
        "\n",
        "test_data_with_len = [[sent, test_data_labels[i], len(sent)]\n",
        "                 for i, sent in enumerate(test_data_inputs)]\n",
        "\n",
        "random.shuffle(test_data_with_len)\n",
        "test_data_with_len.sort(key = lambda x: x[2])\n",
        "test_sorted_all = [(sent[0], sent[1])\n",
        "               for sent in test_data_with_len if sent[2] > 7]\n",
        "\n",
        "test_all_dataset = tf.data.Dataset.from_generator(lambda: test_sorted_all, output_types=(tf.int32, tf.int32))\n"
      ],
      "execution_count": null,
      "outputs": []
    },
    {
      "cell_type": "code",
      "metadata": {
        "colab": {
          "base_uri": "https://localhost:8080/"
        },
        "id": "IeRFpXrK6Ay6",
        "outputId": "07e7f965-dec1-4f6e-b124-a350ed6412e8"
      },
      "source": [
        "next(iter(test_all_dataset))"
      ],
      "execution_count": null,
      "outputs": [
        {
          "output_type": "execute_result",
          "data": {
            "text/plain": [
              "(<tf.Tensor: shape=(8,), dtype=int32, numpy=array([3191, 1996, 2338, 1010, 5293, 1996, 3185,  999], dtype=int32)>,\n",
              " <tf.Tensor: shape=(), dtype=int32, numpy=0>)"
            ]
          },
          "metadata": {
            "tags": []
          },
          "execution_count": 37
        }
      ]
    },
    {
      "cell_type": "code",
      "metadata": {
        "id": "LulhQ0Pc6I5P"
      },
      "source": [
        "test_all_batched = test_all_dataset.padded_batch(BATCH_SIZE, padded_shapes=((None, ), ()))"
      ],
      "execution_count": null,
      "outputs": []
    },
    {
      "cell_type": "code",
      "metadata": {
        "id": "xgSsbVCm6I7c"
      },
      "source": [
        "TEST_NB_BATCHES = math.ceil(len(test_sorted_all)/BATCH_SIZE)"
      ],
      "execution_count": null,
      "outputs": []
    },
    {
      "cell_type": "code",
      "metadata": {
        "id": "sOCVUrie6I-H"
      },
      "source": [
        "##shuffle because the datasets are ordered by length\n",
        "test_all_batched.shuffle(TEST_NB_BATCHES)\n",
        "test_dataset = test_all_batched"
      ],
      "execution_count": null,
      "outputs": []
    },
    {
      "cell_type": "code",
      "metadata": {
        "id": "AJ8Q-p4RWMw_",
        "colab": {
          "base_uri": "https://localhost:8080/"
        },
        "outputId": "20925673-20bb-4266-9551-51a0832c593c"
      },
      "source": [
        "results = Dcnn.evaluate(test_dataset)"
      ],
      "execution_count": null,
      "outputs": [
        {
          "output_type": "stream",
          "text": [
            "782/782 [==============================] - 15s 19ms/step - loss: 0.4851 - accuracy: 0.8856\n"
          ],
          "name": "stdout"
        }
      ]
    },
    {
      "cell_type": "code",
      "metadata": {
        "id": "LaK_rJTq_u3L",
        "colab": {
          "base_uri": "https://localhost:8080/"
        },
        "outputId": "6ca80157-7fb3-48a0-fb8a-0182bd386519"
      },
      "source": [
        "print(f'The Accuracy of model on the test dataset is: {results[1]:.2f}')"
      ],
      "execution_count": null,
      "outputs": [
        {
          "output_type": "stream",
          "text": [
            "The Accuracy of model on the test dataset is: 0.89\n"
          ],
          "name": "stdout"
        }
      ]
    }
  ]
}