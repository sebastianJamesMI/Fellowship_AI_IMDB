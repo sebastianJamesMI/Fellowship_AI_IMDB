{
  "nbformat": 4,
  "nbformat_minor": 0,
  "metadata": {
    "colab": {
      "name": "Sentiment_Analysis_IMDB_Baseline.ipynb",
      "provenance": [],
      "mount_file_id": "1pQRpoGiT1PY2ndQ5qZ-s1gFIcng5Y2ho",
      "authorship_tag": "ABX9TyPbBpRU67W6nTuVoLVnPHq7",
      "include_colab_link": true
    },
    "kernelspec": {
      "name": "python3",
      "display_name": "Python 3"
    },
    "language_info": {
      "name": "python"
    },
    "accelerator": "GPU"
  },
  "cells": [
    {
      "cell_type": "markdown",
      "metadata": {
        "id": "view-in-github",
        "colab_type": "text"
      },
      "source": [
        "<a href=\"https://colab.research.google.com/github/sebastianJamesMI/Fellowship_AI_IMDB/blob/main/Sentiment_Analysis_IMDB_Baseline.ipynb\" target=\"_parent\"><img src=\"https://colab.research.google.com/assets/colab-badge.svg\" alt=\"Open In Colab\"/></a>"
      ]
    },
    {
      "cell_type": "markdown",
      "metadata": {
        "id": "GarTRYs62E_S"
      },
      "source": [
        "This project uses the IMDB dataset compiled by Andrew Maas (see http://a\n",
        "i.stanford.edu/~amaas/data/sentiment/).\n",
        "\n",
        "- The objective is to classify movie reviews as positive or negative. The original reviews were rated on a scale from 1 to 10. For Binary Classification, anything with <= 4 was classfed as negative and anything with >= 7 stars were classified as positive. \n",
        "\n",
        "\n",
        "\n",
        "I use different strategies to perform this classification task starting with a simple Baseline then using more complex models. This notebook uses a simple Baseline model and references the following sources:\n",
        "1. Data reading and downloading, Aaron Kub: \n",
        "https://towardsdatascience.com/sentiment-analysis-with-python-part-1-5ce197074184\n",
        "2. Data Reading and Downloading: Georgios Drakos: https://gdcoder.com/sentiment-clas/\n",
        "2. Word Tokenization: Coursera Deep learning NLP courses by Andrew Ng\n"
      ]
    },
    {
      "cell_type": "markdown",
      "metadata": {
        "id": "3vjjdldlw-7k"
      },
      "source": [
        "Download the data from http://ai.stanford.edu/~amaas/data/sentiment/"
      ]
    },
    {
      "cell_type": "code",
      "metadata": {
        "id": "VnLMuPMGwfCZ"
      },
      "source": [
        "!wget http://ai.stanford.edu/~amaas/data/sentiment/aclImdb_v1.tar.gz \n",
        "!gunzip aclImdb_v1.tar.gz\n",
        "!tar -xvf aclImdb_v1.tar"
      ],
      "execution_count": null,
      "outputs": []
    },
    {
      "cell_type": "markdown",
      "metadata": {
        "id": "pEkyTJzr2B0U"
      },
      "source": [
        ""
      ]
    },
    {
      "cell_type": "code",
      "metadata": {
        "id": "LkVPyAfrzMVw"
      },
      "source": [
        "## Actual Analysis\n",
        "import numpy as np\n",
        "import pandas as pd\n",
        "from glob import glob\n",
        "import os\n",
        "import re\n",
        "import string\n",
        "import tensorflow as tf\n",
        "from tensorflow.keras.preprocessing.text import Tokenizer\n",
        "from tensorflow.keras.preprocessing.sequence import pad_sequences\n",
        "from tensorflow.keras.callbacks import ReduceLROnPlateau, EarlyStopping, ModelCheckpoint\n",
        "from sklearn.metrics import accuracy_score\n",
        "from sklearn.model_selection import train_test_split\n",
        "\n",
        "import matplotlib.pyplot as plt\n",
        "%matplotlib inline"
      ],
      "execution_count": null,
      "outputs": []
    },
    {
      "cell_type": "code",
      "metadata": {
        "colab": {
          "base_uri": "https://localhost:8080/"
        },
        "id": "efa8DHNxRTHS",
        "outputId": "87d4feec-10f8-4fbc-8bf4-55cdc8b9ea07"
      },
      "source": [
        "ls"
      ],
      "execution_count": null,
      "outputs": [
        {
          "output_type": "stream",
          "text": [
            "\u001b[0m\u001b[01;34maclImdb\u001b[0m/  aclImdb_v1.tar  \u001b[01;34mdrive\u001b[0m/  \u001b[01;34msample_data\u001b[0m/\n"
          ],
          "name": "stdout"
        }
      ]
    },
    {
      "cell_type": "code",
      "metadata": {
        "id": "oJ1BYOYnzbzY"
      },
      "source": [
        "## Read this data into python\n",
        "PATH = '/content/aclImdb/'\n",
        "names = ['neg', 'pos']"
      ],
      "execution_count": null,
      "outputs": []
    },
    {
      "cell_type": "code",
      "metadata": {
        "id": "EjMt8Egl3l-e",
        "colab": {
          "base_uri": "https://localhost:8080/"
        },
        "outputId": "302acebf-1a2d-4fb1-f5d3-ab23353ee4f0"
      },
      "source": [
        "def load_texts_labels_from_folders(path, folders):\n",
        "    texts,labels = [],[]\n",
        "    for idx,label in enumerate(folders):\n",
        "        for fname in glob(os.path.join(path, label, '*.*')):\n",
        "            texts.append(open(fname, 'r').read())\n",
        "            labels.append(idx)\n",
        "    # stored as np.int8 to save space \n",
        "    return texts, np.array(labels).astype(np.int8)\n",
        "\n",
        "train_x,train_y = load_texts_labels_from_folders(f'{PATH}train',names)\n",
        "test_x,test_y = load_texts_labels_from_folders(f'{PATH}test',names)\n"
      ],
      "execution_count": null,
      "outputs": [
        {
          "output_type": "stream",
          "text": [
            "0 neg\n",
            "0 neg\n"
          ],
          "name": "stdout"
        }
      ]
    },
    {
      "cell_type": "code",
      "metadata": {
        "colab": {
          "base_uri": "https://localhost:8080/"
        },
        "id": "qWWaj2_k7rGG",
        "outputId": "7ea2c34e-539c-4d86-dcfc-7a8eb9e8c935"
      },
      "source": [
        "len(train_x),len(train_y),len(test_x),len(test_y)"
      ],
      "execution_count": null,
      "outputs": [
        {
          "output_type": "execute_result",
          "data": {
            "text/plain": [
              "(25000, 25000, 25000, 25000)"
            ]
          },
          "metadata": {
            "tags": []
          },
          "execution_count": 11
        }
      ]
    },
    {
      "cell_type": "code",
      "metadata": {
        "id": "aZc3xqS_8VE5"
      },
      "source": [
        "#create train.csv and test.csv pd files for easier access\n",
        "train = pd.DataFrame(zip(train_x, train_y), columns = ['text', 'label'])\n",
        "test = pd.DataFrame(zip(test_x, test_y), columns = ['text', 'label'])\n",
        "train.to_csv('/content/drive/MyDrive/Projects/FellowshipAI/train.csv', index= False)\n",
        "test.to_csv('/content/drive/MyDrive/Projects/FellowshipAI/test.csv', index= False)"
      ],
      "execution_count": null,
      "outputs": []
    },
    {
      "cell_type": "code",
      "metadata": {
        "id": "SWsfNMaf9vaE"
      },
      "source": [
        "## Read in train and test files, we can use these filesn for future notebooks\n",
        "train_df = pd.read_csv('/content/drive/MyDrive/Projects/FellowshipAI/train.csv')\n",
        "test_df = pd.read_csv('/content/drive/MyDrive/Projects/FellowshipAI/test.csv')"
      ],
      "execution_count": null,
      "outputs": []
    },
    {
      "cell_type": "code",
      "metadata": {
        "colab": {
          "base_uri": "https://localhost:8080/"
        },
        "id": "6qqBVS1k97Zw",
        "outputId": "d3a40a48-cbc3-4519-e64d-ed2fd2a4e6b2"
      },
      "source": [
        "print(train_df.shape)\n",
        "print(test_df.shape)"
      ],
      "execution_count": null,
      "outputs": [
        {
          "output_type": "stream",
          "text": [
            "(25000, 2)\n",
            "(25000, 2)\n"
          ],
          "name": "stdout"
        }
      ]
    },
    {
      "cell_type": "code",
      "metadata": {
        "colab": {
          "base_uri": "https://localhost:8080/"
        },
        "id": "F4OgtruF7sft",
        "outputId": "ae33b371-1c17-4736-a2e2-d92fa3e20086"
      },
      "source": [
        "## An example of training data\n",
        "print('The review text is: {}'.format(train_df['text'][0]))\n",
        "print('\\n')\n",
        "print(f\"The label is: {train_df['label'][0]}\")"
      ],
      "execution_count": null,
      "outputs": [
        {
          "output_type": "stream",
          "text": [
            "The review text is: BRIEF ENCOUNTER is a ghastly and pointless remake of the 1945 David Lean classic, which was based on Noel Coward's play \"Still Life\". A doctor removes a particle of grit from a woman's eye at a railway station, he is in a miserable relationship, she is happily married social worker of Italian ancestry. They meet by accident on another occasion, form an instant attraction and arrange to meet each other every Wednesday. The pair fall in love, but after spending a few afternoons together they realise that they have no realistic chance of happiness and agree to part. Coward's original one-act play concerned two ordinary people who fall in love. Sophia Loren and Richard Burton, two Super Stars and veterans of Hollywood Epics, are nobody's idea of 'ordinary people'. Loren in particular is miscast - Sophia Loren in full make-up, looking like a million dollars, working as a part-time voluntary social worker at a Citizen Advice Bureau just doesn't ring true. Burton, looking haggard, with dyed hair, too much make-up and wearing platform shoes, doesn't come across as your average General Practitioner. That said, you can't really blame them for having an affair after seeing their spouses. Burton is married to a literary critic who spends her evenings penning poisonous reviews and who treats her husband with total contempt. Loren's husband, Jack Hedley, potters around the house all day and is terminally boring: the most exciting thing he has ever done is nearly have an affair six years previous. Their final scene together will induce nausea, (\"You've been a long, long way away\", etc.). That great British jobbing actor, John LeMesurier, has a three minute cameo as Burton's friend, and appears to be slightly inebriated, speaking his lines in a barely audible voice. It's a sad and forgettable performance in a dismal, awful rehash of a cinema classic. Avoid at all costs.\n",
            "\n",
            "\n",
            "The label is: 0\n"
          ],
          "name": "stdout"
        }
      ]
    },
    {
      "cell_type": "code",
      "metadata": {
        "id": "qGeJcZDLCorq"
      },
      "source": [
        "## split the training data further into trian and validation\n",
        "train, val = train_test_split(train_df, test_size=0.2)\n",
        "test = test_df"
      ],
      "execution_count": null,
      "outputs": []
    },
    {
      "cell_type": "code",
      "metadata": {
        "colab": {
          "base_uri": "https://localhost:8080/",
          "height": 204
        },
        "id": "8KH9dtuAI29m",
        "outputId": "8a54831f-0eb0-4c14-8d1b-c2c65b97108f"
      },
      "source": [
        "val.head()"
      ],
      "execution_count": null,
      "outputs": [
        {
          "output_type": "execute_result",
          "data": {
            "text/html": [
              "<div>\n",
              "<style scoped>\n",
              "    .dataframe tbody tr th:only-of-type {\n",
              "        vertical-align: middle;\n",
              "    }\n",
              "\n",
              "    .dataframe tbody tr th {\n",
              "        vertical-align: top;\n",
              "    }\n",
              "\n",
              "    .dataframe thead th {\n",
              "        text-align: right;\n",
              "    }\n",
              "</style>\n",
              "<table border=\"1\" class=\"dataframe\">\n",
              "  <thead>\n",
              "    <tr style=\"text-align: right;\">\n",
              "      <th></th>\n",
              "      <th>text</th>\n",
              "      <th>label</th>\n",
              "    </tr>\n",
              "  </thead>\n",
              "  <tbody>\n",
              "    <tr>\n",
              "      <th>561</th>\n",
              "      <td>This film essentially deals with Inspector Gad...</td>\n",
              "      <td>0</td>\n",
              "    </tr>\n",
              "    <tr>\n",
              "      <th>19856</th>\n",
              "      <td>I went to see this movie twice within a week a...</td>\n",
              "      <td>1</td>\n",
              "    </tr>\n",
              "    <tr>\n",
              "      <th>21370</th>\n",
              "      <td>Gómez Pereira is the responsible for some of t...</td>\n",
              "      <td>1</td>\n",
              "    </tr>\n",
              "    <tr>\n",
              "      <th>23242</th>\n",
              "      <td>This film was quite a surprise. I wasn't expec...</td>\n",
              "      <td>1</td>\n",
              "    </tr>\n",
              "    <tr>\n",
              "      <th>18081</th>\n",
              "      <td>This is a really nice and sweet movie that the...</td>\n",
              "      <td>1</td>\n",
              "    </tr>\n",
              "  </tbody>\n",
              "</table>\n",
              "</div>"
            ],
            "text/plain": [
              "                                                    text  label\n",
              "561    This film essentially deals with Inspector Gad...      0\n",
              "19856  I went to see this movie twice within a week a...      1\n",
              "21370  Gómez Pereira is the responsible for some of t...      1\n",
              "23242  This film was quite a surprise. I wasn't expec...      1\n",
              "18081  This is a really nice and sweet movie that the...      1"
            ]
          },
          "metadata": {
            "tags": []
          },
          "execution_count": 18
        }
      ]
    },
    {
      "cell_type": "code",
      "metadata": {
        "colab": {
          "base_uri": "https://localhost:8080/",
          "height": 137
        },
        "id": "zfraYq-BJPrR",
        "outputId": "6c29f952-8132-4716-f663-cb5e85cd27e8"
      },
      "source": [
        "val['text'].iloc[0]"
      ],
      "execution_count": null,
      "outputs": [
        {
          "output_type": "execute_result",
          "data": {
            "application/vnd.google.colaboratory.intrinsic+json": {
              "type": "string"
            },
            "text/plain": [
              "'This film essentially deals with Inspector Gadget\\'s arch-nemesis Doctor Claw who has returned after many years to the now-peaceful city of Metropolis. Claw\\'s plan is to foil Gadget once and for all by using a newer \"cooler\" crimefighter to help destroy Gadget\\'s popularity. Sadly the film fails miserably, the series was great, but it was revived nearly 20 years later with tragic results. Without the voice of Don Adams as Inspector Gadget it just doesn\\'t cut it anymore; Dr. Claw is not only visually less frightening, but sounds more like a wrestler with a cold, than his original intimidating self. Granted this is a children\\'s movie, but the plot is so painfully weak (heaven forbid I mention the animation) that it pales in comparison to the original series. Someone has decided to updated Penny as well to bring her two decades up to speed, she now has some quasi-punk rebellious clothing style and doesn\\'t play half the role that she did in the TV series. The Gadgetmobile talks, as well as including a plot angle that focuses entire ON talking cars. Maybe I\\'m just a kid who loved the show who\\'s grown up jaded, but I thought that the live-action version was more pain than I could bear, but now they go and spring this complete watering-down of the quality TV series on us. It\\'s more than I can take.'"
            ]
          },
          "metadata": {
            "tags": []
          },
          "execution_count": 19
        }
      ]
    },
    {
      "cell_type": "code",
      "metadata": {
        "id": "7CPmicTbEtdG"
      },
      "source": [
        "## This model is a Baseline Using an Simple Neural Network with no RNN layers to predict sentiment"
      ],
      "execution_count": null,
      "outputs": []
    },
    {
      "cell_type": "code",
      "metadata": {
        "id": "Zofa-wK3F3Hg"
      },
      "source": [
        "## Text data needs to be converted to numerical data using tokenizing"
      ],
      "execution_count": null,
      "outputs": []
    },
    {
      "cell_type": "code",
      "metadata": {
        "id": "MpCKsjGAGIAN"
      },
      "source": [
        "vocab_size = 50000\n",
        "embedding_dim = 16\n",
        "max_length = 120\n",
        "trunc_type='post'\n",
        "oov_tok = \"<OOV>\""
      ],
      "execution_count": null,
      "outputs": []
    },
    {
      "cell_type": "code",
      "metadata": {
        "id": "yZCiG2-UGRQ8"
      },
      "source": [
        "# we use tensorflow tokenizer which will do some preprocessing\n",
        "tokenizer = Tokenizer(num_words = vocab_size, oov_token=oov_tok)\n",
        "tokenizer.fit_on_texts(train['text'])\n",
        "word_index = tokenizer.word_index  ## this is the dictionary storing word: token pairs"
      ],
      "execution_count": null,
      "outputs": []
    },
    {
      "cell_type": "code",
      "metadata": {
        "colab": {
          "base_uri": "https://localhost:8080/"
        },
        "id": "EkTn7IgRXRpc",
        "outputId": "fce024f2-84e0-486a-bc9f-cae444dad593"
      },
      "source": [
        "len(word_index)"
      ],
      "execution_count": null,
      "outputs": [
        {
          "output_type": "execute_result",
          "data": {
            "text/plain": [
              "80306"
            ]
          },
          "metadata": {
            "tags": []
          },
          "execution_count": 109
        }
      ]
    },
    {
      "cell_type": "code",
      "metadata": {
        "id": "QMGY8a44DmEa"
      },
      "source": [
        "#converting text to number (token) sequences and padding, the inputs need to be of same dimension\n",
        "train_sequences = tokenizer.texts_to_sequences(train['text'])\n",
        "train_padded = pad_sequences(train_sequences,maxlen=max_length, truncating=trunc_type, padding='post')\n",
        "\n",
        "val_sequences = tokenizer.texts_to_sequences(val['text'])\n",
        "val_padded = pad_sequences(val_sequences,maxlen=max_length, truncating=trunc_type, padding='post')\n",
        "\n",
        "test_sequences = tokenizer.texts_to_sequences(test['text'])\n",
        "test_padded = pad_sequences(test_sequences,maxlen=max_length, truncating=trunc_type, padding='post')"
      ],
      "execution_count": null,
      "outputs": []
    },
    {
      "cell_type": "code",
      "metadata": {
        "colab": {
          "base_uri": "https://localhost:8080/"
        },
        "id": "FwWazSmHGc0j",
        "outputId": "4bb5ce88-40ce-4f22-ba0d-846498d460c3"
      },
      "source": [
        "print(train_sequences[0])\n",
        "print(train_padded[0])"
      ],
      "execution_count": null,
      "outputs": [
        {
          "output_type": "stream",
          "text": [
            "[363, 301, 387, 6, 70, 52, 11, 14, 42, 821, 11, 381, 319, 811, 1116, 5, 5055, 1507, 340, 3581, 16, 2031, 12517, 3, 29, 250, 59, 1647, 580, 70, 13, 28, 14, 79, 9, 4, 120, 440, 363, 301, 29, 250, 11, 14, 2009, 192, 6, 1289, 33, 370, 136, 5130, 221, 10, 161, 309, 97, 216, 31, 84, 19, 15, 11, 293, 51, 3, 51, 123, 312, 31, 821, 4363, 11, 60, 41, 27, 37, 83, 10, 8, 8, 12, 120, 62, 164, 23, 184, 6, 27, 47, 625, 3445, 44, 16, 2, 531, 139, 1361, 16, 95, 3, 276, 57, 2873, 9, 66, 116, 221, 1876, 47133, 8, 8, 2, 152, 11, 38, 89, 42, 363, 301, 7, 13, 43, 4, 82, 120, 17, 359, 3, 1532, 5, 30, 2114, 47, 78, 27, 48, 538, 13, 24, 51, 17, 1532, 94, 538, 13, 24, 950, 17, 359, 37, 13, 2, 225, 221, 78, 350, 10, 56, 549, 87, 938, 10, 68, 27, 43, 128, 4, 82, 120, 3, 11, 60, 409, 383, 10, 6, 260, 8, 8, 155, 155]\n",
            "[  363   301   387     6    70    52    11    14    42   821    11   381\n",
            "   319   811  1116     5  5055  1507   340  3581    16  2031 12517     3\n",
            "    29   250    59  1647   580    70    13    28    14    79     9     4\n",
            "   120   440   363   301    29   250    11    14  2009   192     6  1289\n",
            "    33   370   136  5130   221    10   161   309    97   216    31    84\n",
            "    19    15    11   293    51     3    51   123   312    31   821  4363\n",
            "    11    60    41    27    37    83    10     8     8    12   120    62\n",
            "   164    23   184     6    27    47   625  3445    44    16     2   531\n",
            "   139  1361    16    95     3   276    57  2873     9    66   116   221\n",
            "  1876 47133     8     8     2   152    11    38    89    42   363   301]\n"
          ],
          "name": "stdout"
        }
      ]
    },
    {
      "cell_type": "code",
      "metadata": {
        "id": "j-Ojt26OGiXs"
      },
      "source": [
        "reverse_word_index = dict([(value, key) for (key, value) in word_index.items()])"
      ],
      "execution_count": null,
      "outputs": []
    },
    {
      "cell_type": "code",
      "metadata": {
        "colab": {
          "base_uri": "https://localhost:8080/"
        },
        "id": "AElZtkZIHMaS",
        "outputId": "19fb4dfd-b59a-4e48-9ae6-61e35758c8be"
      },
      "source": [
        "def decode_review(text):\n",
        "    return ' '.join([reverse_word_index.get(i, '?') for i in text])\n",
        "\n",
        "print(decode_review(val_padded[0]))\n",
        "print(val['text'].iloc[0])"
      ],
      "execution_count": null,
      "outputs": [
        {
          "output_type": "stream",
          "text": [
            "this film essentially deals with inspector gadget's arch nemesis doctor claw who has returned after many years to the now peaceful city of metropolis claw's plan is to foil gadget once and for all by using a newer cooler <OOV> to help destroy gadget's popularity sadly the film fails miserably the series was great but it was revived nearly 20 years later with tragic results without the voice of don adams as inspector gadget it just doesn't cut it anymore dr claw is not only visually less frightening but sounds more like a wrestler with a cold than his original intimidating self granted this is a children's movie but the plot is so painfully weak heaven forbid i mention the\n",
            "This film essentially deals with Inspector Gadget's arch-nemesis Doctor Claw who has returned after many years to the now-peaceful city of Metropolis. Claw's plan is to foil Gadget once and for all by using a newer \"cooler\" crimefighter to help destroy Gadget's popularity. Sadly the film fails miserably, the series was great, but it was revived nearly 20 years later with tragic results. Without the voice of Don Adams as Inspector Gadget it just doesn't cut it anymore; Dr. Claw is not only visually less frightening, but sounds more like a wrestler with a cold, than his original intimidating self. Granted this is a children's movie, but the plot is so painfully weak (heaven forbid I mention the animation) that it pales in comparison to the original series. Someone has decided to updated Penny as well to bring her two decades up to speed, she now has some quasi-punk rebellious clothing style and doesn't play half the role that she did in the TV series. The Gadgetmobile talks, as well as including a plot angle that focuses entire ON talking cars. Maybe I'm just a kid who loved the show who's grown up jaded, but I thought that the live-action version was more pain than I could bear, but now they go and spring this complete watering-down of the quality TV series on us. It's more than I can take.\n"
          ],
          "name": "stdout"
        }
      ]
    },
    {
      "cell_type": "code",
      "metadata": {
        "id": "7_l-X6uYSn4p"
      },
      "source": [
        "# set model parameters here\n",
        "EPOCHS = 20\n",
        "BATCH_SIZE = 64"
      ],
      "execution_count": null,
      "outputs": []
    },
    {
      "cell_type": "code",
      "metadata": {
        "id": "ZSIvG4Z_SMz_"
      },
      "source": [
        "#convert to tf.Data\n",
        "def get_df(padded, labels):\n",
        "    tempx = padded\n",
        "    tempy = labels\n",
        "    \n",
        "    datasetx = tf.data.Dataset.from_tensor_slices(tempx)\n",
        "    datasety = tf.data.Dataset.from_tensor_slices(tempy)\n",
        "      \n",
        "    datasets = tf.data.Dataset.zip((datasetx, datasety))\n",
        "    datasets = datasets.batch(batch_size = BATCH_SIZE)\n",
        " \n",
        "    return datasets"
      ],
      "execution_count": null,
      "outputs": []
    },
    {
      "cell_type": "code",
      "metadata": {
        "id": "mAwnloNiSsRS"
      },
      "source": [
        "train_ds = get_df(train_padded, train_y)\n",
        "val_ds = get_df(val_padded, val_y)\n",
        "test_ds = get_df(test_padded, test_y)"
      ],
      "execution_count": null,
      "outputs": []
    },
    {
      "cell_type": "code",
      "metadata": {
        "colab": {
          "base_uri": "https://localhost:8080/"
        },
        "id": "9fAmzPa1ToD3",
        "outputId": "a39327a7-6b33-4701-ab9b-18086519a947"
      },
      "source": [
        "train_ds.element_spec"
      ],
      "execution_count": null,
      "outputs": [
        {
          "output_type": "execute_result",
          "data": {
            "text/plain": [
              "(TensorSpec(shape=(None, 120), dtype=tf.int32, name=None),\n",
              " TensorSpec(shape=(None,), dtype=tf.int64, name=None))"
            ]
          },
          "metadata": {
            "tags": []
          },
          "execution_count": 117
        }
      ]
    },
    {
      "cell_type": "code",
      "metadata": {
        "colab": {
          "base_uri": "https://localhost:8080/"
        },
        "id": "7LmPZW6TYXa1",
        "outputId": "6f239586-2828-4892-bf8f-010f45f93006"
      },
      "source": [
        "for x, y in train_ds.take(1):\n",
        "    print(f'The text for this example is: \\n {x[0]}')\n",
        "    print(f'The label for this example is: \\n {y[0]}')"
      ],
      "execution_count": null,
      "outputs": [
        {
          "output_type": "stream",
          "text": [
            "The text for this example is: \n",
            " [  363   301   387     6    70    52    11    14    42   821    11   381\n",
            "   319   811  1116     5  5055  1507   340  3581    16  2031 12517     3\n",
            "    29   250    59  1647   580    70    13    28    14    79     9     4\n",
            "   120   440   363   301    29   250    11    14  2009   192     6  1289\n",
            "    33   370   136  5130   221    10   161   309    97   216    31    84\n",
            "    19    15    11   293    51     3    51   123   312    31   821  4363\n",
            "    11    60    41    27    37    83    10     8     8    12   120    62\n",
            "   164    23   184     6    27    47   625  3445    44    16     2   531\n",
            "   139  1361    16    95     3   276    57  2873     9    66   116   221\n",
            "  1876 47133     8     8     2   152    11    38    89    42   363   301]\n",
            "The label for this example is: \n",
            " 1\n"
          ],
          "name": "stdout"
        }
      ]
    },
    {
      "cell_type": "code",
      "metadata": {
        "id": "5_zeqRlHUNSX"
      },
      "source": [
        "#set callbacks: Early Stopping and Reduce Learning Rate\n",
        "def get_callbacks():\n",
        "    \"\"\"\n",
        "    This function should create and return a tuple (early_stopping, learning_rate_reduction) callbacks.\n",
        "    The callbacks should be instantiated according to the above requirements.\n",
        "    \"\"\"\n",
        "    early_stopping = EarlyStopping(patience = 5, mode = 'min')\n",
        "    learning_rate_reduction = ReduceLROnPlateau(factor=0.2, patience =3)\n",
        "    return (early_stopping,learning_rate_reduction)\n",
        "\n",
        "early_stopping, learning_rate_reduction = get_callbacks()\n",
        "checkpoint = ModelCheckpoint(f\"/content/drive/MyDrive/Projects/FellowshipAIweights.h5\", monitor='val_loss', verbose=1, save_best_only=True,mode='min')"
      ],
      "execution_count": null,
      "outputs": []
    },
    {
      "cell_type": "code",
      "metadata": {
        "colab": {
          "base_uri": "https://localhost:8080/"
        },
        "id": "u-n0vWHHHTsE",
        "outputId": "520e4be5-528a-42b2-cd4c-bc99ff2d8236"
      },
      "source": [
        "#Define model\n",
        "model = tf.keras.Sequential([\n",
        "    tf.keras.layers.Embedding(vocab_size, embedding_dim, input_length=max_length),\n",
        "    tf.keras.layers.Flatten(),\n",
        "    tf.keras.layers.Dense(10, activation='relu'),\n",
        "    tf.keras.layers.Dense(1, activation='sigmoid')\n",
        "])\n",
        "model.compile(loss='binary_crossentropy',optimizer='adam',metrics=['accuracy'])\n",
        "model.summary()"
      ],
      "execution_count": null,
      "outputs": [
        {
          "output_type": "stream",
          "text": [
            "Model: \"sequential_9\"\n",
            "_________________________________________________________________\n",
            "Layer (type)                 Output Shape              Param #   \n",
            "=================================================================\n",
            "embedding_9 (Embedding)      (None, 120, 16)           800000    \n",
            "_________________________________________________________________\n",
            "flatten_9 (Flatten)          (None, 1920)              0         \n",
            "_________________________________________________________________\n",
            "dense_18 (Dense)             (None, 10)                19210     \n",
            "_________________________________________________________________\n",
            "dense_19 (Dense)             (None, 1)                 11        \n",
            "=================================================================\n",
            "Total params: 819,221\n",
            "Trainable params: 819,221\n",
            "Non-trainable params: 0\n",
            "_________________________________________________________________\n"
          ],
          "name": "stdout"
        }
      ]
    },
    {
      "cell_type": "code",
      "metadata": {
        "colab": {
          "base_uri": "https://localhost:8080/",
          "height": 533
        },
        "id": "azAdALUOUp9M",
        "outputId": "8cbb909f-0b94-44f4-cc9b-142ccdb4daf7"
      },
      "source": [
        "tf.keras.utils.plot_model(model, show_shapes=True)"
      ],
      "execution_count": null,
      "outputs": [
        {
          "output_type": "execute_result",
          "data": {
            "image/png": "[encoded data removed]",
            "text/plain": [
              "<IPython.core.display.Image object>"
            ]
          },
          "metadata": {
            "tags": []
          },
          "execution_count": 120
        }
      ]
    },
    {
      "cell_type": "code",
      "metadata": {
        "colab": {
          "base_uri": "https://localhost:8080/"
        },
        "id": "1VkF_rnxHvbU",
        "outputId": "02086e73-b83b-405a-fd28-4ddfc2de5012"
      },
      "source": [
        "num_epochs = 10\n",
        "history = model.fit(train_ds, validation_data = val_ds, epochs=num_epochs, shuffle = True, callbacks = [early_stopping,learning_rate_reduction, checkpoint])"
      ],
      "execution_count": null,
      "outputs": [
        {
          "output_type": "stream",
          "text": [
            "Epoch 1/10\n",
            "313/313 [==============================] - 4s 12ms/step - loss: 0.6650 - accuracy: 0.5680 - val_loss: 0.3839 - val_accuracy: 0.8242\n",
            "\n",
            "Epoch 00001: val_loss improved from inf to 0.38390, saving model to /content/drive/MyDrive/Projects/FellowshipAIweights.h5\n",
            "Epoch 2/10\n",
            "313/313 [==============================] - 3s 11ms/step - loss: 0.3066 - accuracy: 0.8728 - val_loss: 0.3484 - val_accuracy: 0.8498\n",
            "\n",
            "Epoch 00002: val_loss improved from 0.38390 to 0.34838, saving model to /content/drive/MyDrive/Projects/FellowshipAIweights.h5\n",
            "Epoch 3/10\n",
            "313/313 [==============================] - 4s 11ms/step - loss: 0.1072 - accuracy: 0.9689 - val_loss: 0.3968 - val_accuracy: 0.8422\n",
            "\n",
            "Epoch 00003: val_loss did not improve from 0.34838\n",
            "Epoch 4/10\n",
            "313/313 [==============================] - 4s 12ms/step - loss: 0.0266 - accuracy: 0.9960 - val_loss: 0.4241 - val_accuracy: 0.8498\n",
            "\n",
            "Epoch 00004: val_loss did not improve from 0.34838\n",
            "Epoch 5/10\n",
            "313/313 [==============================] - 4s 11ms/step - loss: 0.0076 - accuracy: 0.9994 - val_loss: 0.4596 - val_accuracy: 0.8490\n",
            "\n",
            "Epoch 00005: val_loss did not improve from 0.34838\n",
            "Epoch 6/10\n",
            "313/313 [==============================] - 4s 11ms/step - loss: 0.0034 - accuracy: 0.9999 - val_loss: 0.4521 - val_accuracy: 0.8496\n",
            "\n",
            "Epoch 00006: val_loss did not improve from 0.34838\n",
            "Epoch 7/10\n",
            "313/313 [==============================] - 4s 11ms/step - loss: 0.0029 - accuracy: 0.9999 - val_loss: 0.4580 - val_accuracy: 0.8492\n",
            "\n",
            "Epoch 00007: val_loss did not improve from 0.34838\n"
          ],
          "name": "stdout"
        }
      ]
    },
    {
      "cell_type": "code",
      "metadata": {
        "colab": {
          "base_uri": "https://localhost:8080/",
          "height": 573
        },
        "id": "XDeivKM8VQ78",
        "outputId": "20d330cf-ff69-46c2-d09e-d3e1fa00626f"
      },
      "source": [
        "## plot the loss curves\n",
        "#Run this cell to plot the epoch vs accuracy graph\n",
        "\n",
        "try:\n",
        "    plt.plot(history.history['accuracy'])\n",
        "    plt.plot(history.history['val_accuracy'])\n",
        "except KeyError:\n",
        "    plt.plot(history.history['acc'])\n",
        "    plt.plot(history.history['val_acc'])\n",
        "plt.title('Accuracy vs. epochs')\n",
        "plt.ylabel('Accuracy')\n",
        "plt.xlabel('Epoch')\n",
        "plt.legend(['Training', 'Validation'], loc='lower right')\n",
        "plt.show() \n",
        "\n",
        "#Run this cell to plot the epoch vs loss graph\n",
        "plt.plot(history.history['loss'])\n",
        "plt.plot(history.history['val_loss'])\n",
        "plt.title('Loss vs. epochs')\n",
        "plt.ylabel('Loss')\n",
        "plt.xlabel('Epoch')\n",
        "plt.legend(['Training', 'Validation'], loc='upper right')\n",
        "plt.show() "
      ],
      "execution_count": null,
      "outputs": [
        {
          "output_type": "display_data",
          "data": {
            "image/png": "[encoded data removed]",
            "text/plain": [
              "<Figure size 432x288 with 1 Axes>"
            ]
          },
          "metadata": {
            "tags": [],
            "needs_background": "light"
          }
        },
        {
          "output_type": "display_data",
          "data": {
            "image/png": "[encoded data removed]",
            "text/plain": [
              "<Figure size 432x288 with 1 Axes>"
            ]
          },
          "metadata": {
            "tags": [],
            "needs_background": "light"
          }
        }
      ]
    },
    {
      "cell_type": "code",
      "metadata": {
        "id": "AJ8Q-p4RWMw_"
      },
      "source": [
        "##Predict the test values"
      ],
      "execution_count": null,
      "outputs": []
    },
    {
      "cell_type": "code",
      "metadata": {
        "id": "LC5stnQCINK6"
      },
      "source": [
        "predicted_values = model.predict(test_ds)"
      ],
      "execution_count": null,
      "outputs": []
    },
    {
      "cell_type": "code",
      "metadata": {
        "id": "ZjJdzutvIsqz"
      },
      "source": [
        "predicted_values = (predicted_values>0.5).astype('int32')"
      ],
      "execution_count": null,
      "outputs": []
    },
    {
      "cell_type": "code",
      "metadata": {
        "colab": {
          "base_uri": "https://localhost:8080/"
        },
        "id": "DiZhxVqFIzyE",
        "outputId": "527c36e2-fe0b-4bfd-f7bd-c117016bf77b"
      },
      "source": [
        "accuracy_score(test_y, predicted_values)"
      ],
      "execution_count": null,
      "outputs": [
        {
          "output_type": "execute_result",
          "data": {
            "text/plain": [
              "0.8102"
            ]
          },
          "metadata": {
            "tags": []
          },
          "execution_count": 126
        }
      ]
    },
    {
      "cell_type": "code",
      "metadata": {
        "id": "LaK_rJTq_u3L"
      },
      "source": [
        ""
      ],
      "execution_count": null,
      "outputs": []
    }
  ]
}